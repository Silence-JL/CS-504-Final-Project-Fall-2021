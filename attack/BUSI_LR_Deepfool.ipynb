{
 "cells": [
  {
   "cell_type": "code",
   "execution_count": null,
   "metadata": {
    "colab": {
     "base_uri": "https://localhost:8080/"
    },
    "executionInfo": {
     "elapsed": 16842,
     "status": "ok",
     "timestamp": 1638414178758,
     "user": {
      "displayName": "Silence Ma",
      "photoUrl": "https://lh3.googleusercontent.com/a/default-user=s64",
      "userId": "01344304277965432029"
     },
     "user_tz": 480
    },
    "id": "-_fDtaL93Qy4",
    "outputId": "b49fc530-0295-426c-c278-fd6338db5f30"
   },
   "outputs": [
    {
     "name": "stdout",
     "output_type": "stream",
     "text": [
      "Mounted at /content/drive\n"
     ]
    }
   ],
   "source": [
    "# mount google drive on your runtime using and authorization code.\n",
    "# more details here: https://colab.research.google.com/notebooks/io.ipynbfrom google.colab import drive\n",
    "from google.colab import drive\n",
    "drive.mount('/content/drive')"
   ]
  },
  {
   "cell_type": "code",
   "execution_count": null,
   "metadata": {
    "colab": {
     "base_uri": "https://localhost:8080/"
    },
    "executionInfo": {
     "elapsed": 3129,
     "status": "ok",
     "timestamp": 1638414181878,
     "user": {
      "displayName": "Silence Ma",
      "photoUrl": "https://lh3.googleusercontent.com/a/default-user=s64",
      "userId": "01344304277965432029"
     },
     "user_tz": 480
    },
    "id": "Q2Dj-KKI3W88",
    "outputId": "ad0dbb73-e180-44fa-a62d-4335654852e2"
   },
   "outputs": [
    {
     "name": "stdout",
     "output_type": "stream",
     "text": [
      "Requirement already satisfied: adversarial-robustness-toolbox in /usr/local/lib/python3.7/dist-packages (1.8.1)\n",
      "Requirement already satisfied: tqdm in /usr/local/lib/python3.7/dist-packages (from adversarial-robustness-toolbox) (4.62.3)\n",
      "Requirement already satisfied: scikit-learn<1.1.0,>=0.22.2 in /usr/local/lib/python3.7/dist-packages (from adversarial-robustness-toolbox) (1.0.1)\n",
      "Requirement already satisfied: numpy>=1.18.0 in /usr/local/lib/python3.7/dist-packages (from adversarial-robustness-toolbox) (1.19.5)\n",
      "Requirement already satisfied: setuptools in /usr/local/lib/python3.7/dist-packages (from adversarial-robustness-toolbox) (57.4.0)\n",
      "Requirement already satisfied: scipy>=1.4.1 in /usr/local/lib/python3.7/dist-packages (from adversarial-robustness-toolbox) (1.4.1)\n",
      "Requirement already satisfied: six in /usr/local/lib/python3.7/dist-packages (from adversarial-robustness-toolbox) (1.15.0)\n",
      "Requirement already satisfied: numba>=0.53.1 in /usr/local/lib/python3.7/dist-packages (from adversarial-robustness-toolbox) (0.54.1)\n",
      "Requirement already satisfied: llvmlite<0.38,>=0.37.0rc1 in /usr/local/lib/python3.7/dist-packages (from numba>=0.53.1->adversarial-robustness-toolbox) (0.37.0)\n",
      "Requirement already satisfied: threadpoolctl>=2.0.0 in /usr/local/lib/python3.7/dist-packages (from scikit-learn<1.1.0,>=0.22.2->adversarial-robustness-toolbox) (3.0.0)\n",
      "Requirement already satisfied: joblib>=0.11 in /usr/local/lib/python3.7/dist-packages (from scikit-learn<1.1.0,>=0.22.2->adversarial-robustness-toolbox) (1.1.0)\n"
     ]
    }
   ],
   "source": [
    "# install adversarial robustness toolbox for attacking (NEED TO RESTART RUNTIME AT FIRST TIME)\n",
    "!pip install adversarial-robustness-toolbox"
   ]
  },
  {
   "cell_type": "code",
   "execution_count": null,
   "metadata": {
    "colab": {
     "base_uri": "https://localhost:8080/"
    },
    "executionInfo": {
     "elapsed": 7178,
     "status": "ok",
     "timestamp": 1638414189054,
     "user": {
      "displayName": "Silence Ma",
      "photoUrl": "https://lh3.googleusercontent.com/a/default-user=s64",
      "userId": "01344304277965432029"
     },
     "user_tz": 480
    },
    "id": "dOC-SEl9_Tqg",
    "outputId": "4c667909-6cf1-4b5a-e6c4-7419ecd2b637"
   },
   "outputs": [
    {
     "name": "stdout",
     "output_type": "stream",
     "text": [
      "GPUs Available:  [PhysicalDevice(name='/physical_device:GPU:0', device_type='GPU')]\n",
      "Device mapping:\n",
      "/job:localhost/replica:0/task:0/device:GPU:0 -> device: 0, name: Tesla P100-PCIE-16GB, pci bus id: 0000:00:04.0, compute capability: 6.0\n",
      "\n"
     ]
    }
   ],
   "source": [
    "# import library\n",
    "import numpy as np\n",
    "import pandas as pd\n",
    "import random\n",
    "\n",
    "import tensorflow as tf\n",
    "from tensorflow import keras\n",
    "from keras.models import Model\n",
    "from tensorflow.keras.utils import to_categorical\n",
    "import matplotlib.pyplot as plt\n",
    "%matplotlib inline\n",
    "import pickle\n",
    "import os\n",
    "import cv2\n",
    "from google.colab.patches import cv2_imshow\n",
    "from imutils import paths\n",
    "from sklearn.model_selection import train_test_split\n",
    "from sklearn import preprocessing\n",
    "\n",
    "from art.estimators.classification import KerasClassifier\n",
    "from art.estimators.classification import SklearnClassifier\n",
    "from art.attacks.evasion import FastGradientMethod,ProjectedGradientDescent,DeepFool\n",
    "\n",
    "# check GPU is available\n",
    "print(\"GPUs Available: \", tf.config.list_physical_devices('GPU'))\n",
    "\n",
    "# set random seed of tensorflow\n",
    "random.seed(1)\n",
    "np.random.seed(1)\n",
    "tf.compat.v1.set_random_seed(1)\n",
    "tf.random.set_seed(1)\n",
    "config = tf.compat.v1.ConfigProto(intra_op_parallelism_threads=1, inter_op_parallelism_threads=1,log_device_placement =True)\n",
    "config.gpu_options.allow_growth = True\n",
    "sess = tf.compat.v1.Session(graph = tf.compat.v1.get_default_graph(), config = config)\n",
    "tf.compat.v1.keras.backend.set_session(sess)\n",
    "tf.compat.v1.disable_eager_execution()"
   ]
  },
  {
   "cell_type": "code",
   "execution_count": null,
   "metadata": {
    "id": "Trwm2Vsn3YVL"
   },
   "outputs": [],
   "source": [
    "# Path to the directory containing the project files (CHANGE THIS PATH TO THE DIRECTORY ON YOUR COMPUTER OR GOOGLE DRIVE)\n",
    "PROJECT_ROOT_DIR = 'drive/My Drive/CS504(AML)/HW1/BUSI/'\n",
    "\n",
    "# Path to the directory containing the dataset (DOWNLOAD THE BUSI_DATASET DIRECTORY FROM FOLLOWING LINK)\n",
    "# DOWNLOAD BUSI dataset here: https://scholar.cu.edu.eg/?q=afahmy/pages/dataset\n",
    "DATA_DIR = 'Dataset_BUSI_with_GT/'"
   ]
  },
  {
   "cell_type": "markdown",
   "metadata": {
    "id": "tqbeAP-Gfl9F"
   },
   "source": [
    "# Load the BUSI images and labels"
   ]
  },
  {
   "cell_type": "code",
   "execution_count": null,
   "metadata": {
    "cellView": "code",
    "id": "LTxT38-8_k7v"
   },
   "outputs": [],
   "source": [
    "# Funciton for loading the dataset\n",
    "# reference: https://www.pyimagesearch.com/2018/09/10/keras-tutorial-how-to-get-started-with-keras-deep-learning-and-python/\n",
    "def load_image():\n",
    "  # initialize the data and labels for each class\n",
    "  data = []\n",
    "  labels = []\n",
    "\n",
    "  data_aside = []\n",
    "  labels_aside = []\n",
    "\n",
    "  benign_data = []\n",
    "  benign_labels = []\n",
    "\n",
    "  malignant_data = []\n",
    "  malignant_labels = []\n",
    "\n",
    "  normal_data = []\n",
    "  normal_labels = []\n",
    "\n",
    "  # load benign image\n",
    "  for i in range(1,438):\n",
    "    image = cv2.imread(PROJECT_ROOT_DIR + DATA_DIR + 'benign/' + 'benign (' + str(i) + ').png')\n",
    "    # resize image to 224 * 224 * 3\n",
    "    image = cv2.resize(image, (224, 224))\n",
    "    benign_data.append(image)\n",
    "    # extract the class label from the image folder\n",
    "    benign_labels.append('benign')\n",
    "  # random Select 120 images and set them aside as Adversarial Attack images. These include 60 benign images, 30 malignant images, and 30 normal images\n",
    "  # select 60 benign images\n",
    "  random.seed(1)\n",
    "  random_sample = random.sample(range(len(benign_data)),60)\n",
    "  for i in range(0,437):\n",
    "    if i in random_sample:\n",
    "      data_aside.append(benign_data[i])\n",
    "      labels_aside.append(benign_labels[i])\n",
    "    else:\n",
    "      data.append(benign_data[i])\n",
    "      labels.append(benign_labels[i])\n",
    "\n",
    "  # load malignant image\n",
    "  for i in range(1,211):\n",
    "    image = cv2.imread(PROJECT_ROOT_DIR + DATA_DIR + 'malignant/' + 'malignant (' + str(i) + ').png')\n",
    "    # resize image to 224 * 224 * 3\n",
    "    image = cv2.resize(image, (224, 224))\n",
    "    malignant_data.append(image)\n",
    "    # extract the class label from the image folder\n",
    "    malignant_labels.append('malignant')\n",
    "  # select 30 malignant images\n",
    "  random.seed(1)\n",
    "  random_sample = random.sample(range(len(malignant_data)),30)\n",
    "  for i in range(0,210):\n",
    "    if i in random_sample:\n",
    "      data_aside.append(malignant_data[i])\n",
    "      labels_aside.append(malignant_labels[i])\n",
    "    else:\n",
    "      data.append(malignant_data[i])\n",
    "      labels.append(malignant_labels[i])\n",
    "  \n",
    "  # load normal image\n",
    "  for i in range(1,134):\n",
    "    image = cv2.imread(PROJECT_ROOT_DIR + DATA_DIR + 'normal/' + 'normal (' + str(i) + ').png')\n",
    "    # resize image to 224 * 224 * 3\n",
    "    image = cv2.resize(image, (224, 224))\n",
    "    normal_data.append(image)\n",
    "    # extract the class label from the image folder\n",
    "    normal_labels.append('normal')\n",
    "  # select 30 normal images\n",
    "  random.seed(1)\n",
    "  random_sample = random.sample(range(len(normal_data)),30)\n",
    "  for i in range(0,133):\n",
    "    if i in random_sample:\n",
    "      data_aside.append(normal_data[i])\n",
    "      labels_aside.append(normal_labels[i])\n",
    "    else:\n",
    "      data.append(normal_data[i])\n",
    "      labels.append(normal_labels[i])  \n",
    "\n",
    "  return data, labels, data_aside, labels_aside\n",
    "# Function for image preprocessing \n",
    "def preprocess(data,labels,data_aside, labels_aside):\n",
    "  # Save training and test image to numpy, Scale image features to be in [0, 1]\n",
    "  data = np.array(data, dtype = np.float32) / 255.0\n",
    "  # Save labels to numpy encode label to integer catergory 0 = 'benign', 1 = 'malignant', 2 = 'normal'\n",
    "  labels = np.array(labels)\n",
    "  new_label_encoder = preprocessing.LabelEncoder()\n",
    "  new_label_encoder.fit(labels)\n",
    "  targets = new_label_encoder.transform(labels)\n",
    "  # Save aside image to numpy, Scale image features to be in [0, 1]\n",
    "  data_aside = np.array(data_aside, dtype = np.float32) / 255.0\n",
    "  # Save labels to numpy encode label to integer catergory 0 = 'benign', 1 = 'malignant', 2 = 'normal' \n",
    "  labels_aside = np.array(labels_aside)\n",
    "  new_labels_aside_encoder = preprocessing.LabelEncoder()\n",
    "  new_labels_aside_encoder.fit(labels_aside)\n",
    "  targets2 = new_label_encoder.transform(labels_aside)\n",
    "  return data, targets, data_aside, targets2"
   ]
  },
  {
   "cell_type": "code",
   "execution_count": null,
   "metadata": {
    "id": "sfx8YFwEUggO"
   },
   "outputs": [],
   "source": [
    "# Load the images and labels\n",
    "data, labels, data_aside, labels_aside = load_image()\n",
    "data, labels, data_aside, labels_aside = preprocess(data,labels,data_aside, labels_aside)\n",
    "\n",
    "# split data into 80% train and 20% test, shuffle the data with\n",
    "(imgs_train, imgs_test, labels_train, labels_test) = train_test_split(data, labels, test_size = 0.2, random_state=42, shuffle = True)\n",
    "# split data into 60% train data and 20% validation data\n",
    "(imgs_train, imgs_val, labels_train, labels_val) = train_test_split(imgs_train, labels_train, test_size = 0.2, random_state=42, shuffle = True)"
   ]
  },
  {
   "cell_type": "code",
   "execution_count": null,
   "metadata": {
    "colab": {
     "base_uri": "https://localhost:8080/"
    },
    "executionInfo": {
     "elapsed": 17,
     "status": "ok",
     "timestamp": 1638414456407,
     "user": {
      "displayName": "Silence Ma",
      "photoUrl": "https://lh3.googleusercontent.com/a/default-user=s64",
      "userId": "01344304277965432029"
     },
     "user_tz": 480
    },
    "id": "YFX8ENErVXih",
    "outputId": "b4bb6590-b8e3-4732-d065-8fa7a888a100"
   },
   "outputs": [
    {
     "name": "stdout",
     "output_type": "stream",
     "text": [
      "Images train shape: (422, 224, 224, 3) - Labels train shape: (422,)\n",
      "Images validation shape: (106, 224, 224, 3) - Labels validation shape: (106,)\n",
      "Images test shape: (132, 224, 224, 3) - Labels test shape: (132,)\n",
      "Aside images shape: (120, 224, 224, 3) - Aside Labels shape: (120,)\n",
      "\n",
      "Max pixel value 1.0\n",
      "Min pixel value 0.0\n",
      "Average pixel value 0.32330388\n",
      "Data type float32\n"
     ]
    }
   ],
   "source": [
    "# Display the shapes of train, validation, and test datasets\n",
    "print('Images train shape: {} - Labels train shape: {}'.format(imgs_train.shape, labels_train.shape))\n",
    "print('Images validation shape: {} - Labels validation shape: {}'.format(imgs_val.shape, labels_val.shape))\n",
    "print('Images test shape: {} - Labels test shape: {}'.format(imgs_test.shape, labels_test.shape))\n",
    "print('Aside images shape: {} - Aside Labels shape: {}'.format(data_aside.shape, labels_aside.shape))\n",
    "# Display the range of images (to make sure they are in the [0, 1] range)\n",
    "print('\\nMax pixel value', np.max(imgs_train))\n",
    "print('Min pixel value', np.min(imgs_train))\n",
    "print('Average pixel value', np.mean(imgs_train))\n",
    "print('Data type', imgs_train[0].dtype)"
   ]
  },
  {
   "cell_type": "code",
   "execution_count": null,
   "metadata": {
    "id": "FaCAEmH8X3pP"
   },
   "outputs": [],
   "source": [
    "# Set constants (BUSI)\n",
    "NUM_LABELS = 3                             # Number of labels\n",
    "BATCH_SIZE = 4                             # Size of batch\n",
    "HEIGHT = 224                                 # Height of input image\n",
    "WIDTH = 224                                  # Width of input image\n",
    "N_CHANNEL = 3                               # Number of channels\n",
    "OUTPUT_DIM = 3                             # Number of output dimension\n",
    "\n",
    "# Set training hyperparameters\n",
    "NUM_EPOCH = 100                             # Number of epoch to train\n",
    "LR = 0.01                                 # Learning rate\n",
    "\n",
    "INPUT_SHAPE = (HEIGHT, WIDTH, N_CHANNEL)  # Input shape of model\n",
    "IMG_SHAPE = (HEIGHT, WIDTH, N_CHANNEL)"
   ]
  },
  {
   "cell_type": "code",
   "execution_count": null,
   "metadata": {
    "colab": {
     "base_uri": "https://localhost:8080/"
    },
    "executionInfo": {
     "elapsed": 11,
     "status": "ok",
     "timestamp": 1638414456409,
     "user": {
      "displayName": "Silence Ma",
      "photoUrl": "https://lh3.googleusercontent.com/a/default-user=s64",
      "userId": "01344304277965432029"
     },
     "user_tz": 480
    },
    "id": "_8AzkPCGX-0g",
    "outputId": "1305ff3c-5519-471f-8af5-817dbbc083cd"
   },
   "outputs": [
    {
     "name": "stdout",
     "output_type": "stream",
     "text": [
      "Labels train shape: (422, 3)\n"
     ]
    }
   ],
   "source": [
    "# Convert the labels to one-hot encoding (to input to the models)\n",
    "labels_train = keras.utils.to_categorical(labels_train, NUM_LABELS)\n",
    "labels_test = keras.utils.to_categorical(labels_test, NUM_LABELS)\n",
    "labels_val = keras.utils.to_categorical(labels_val, NUM_LABELS)\n",
    "labels_aside = keras.utils.to_categorical(labels_aside, NUM_LABELS)\n",
    "print('Labels train shape: {}'.format(labels_train.shape))"
   ]
  },
  {
   "cell_type": "markdown",
   "metadata": {
    "id": "nJbK83ZmfwX9"
   },
   "source": [
    "# Train model by using Logistic Regression classifier in scikit-learn"
   ]
  },
  {
   "cell_type": "code",
   "execution_count": null,
   "metadata": {
    "id": "ucYSX-A96NoN"
   },
   "outputs": [],
   "source": [
    "# copy all images into a new variable\n",
    "x_train = imgs_train.copy()\n",
    "# flatten image features in train, test, aside and adversarial aside images\n",
    "x_train = x_train.reshape(x_train.shape[0],224*224*3)\n",
    "\n",
    "x_test = imgs_test.copy()\n",
    "x_test = x_test.reshape(x_test.shape[0],224*224*3)\n",
    "\n",
    "x_aside = data_aside.copy()\n",
    "x_aside = x_aside.reshape(x_aside.shape[0],224*224*3)"
   ]
  },
  {
   "cell_type": "code",
   "execution_count": null,
   "metadata": {
    "colab": {
     "base_uri": "https://localhost:8080/"
    },
    "executionInfo": {
     "elapsed": 225894,
     "status": "ok",
     "timestamp": 1638414682512,
     "user": {
      "displayName": "Silence Ma",
      "photoUrl": "https://lh3.googleusercontent.com/a/default-user=s64",
      "userId": "01344304277965432029"
     },
     "user_tz": 480
    },
    "id": "Ud2qahE2udvU",
    "outputId": "831e2343-aff8-4c5f-85df-26a584bd29c8"
   },
   "outputs": [
    {
     "name": "stdout",
     "output_type": "stream",
     "text": [
      "test accuracy:  0.6439393939393939\n",
      "aside accuracy:  0.6166666666666667\n"
     ]
    }
   ],
   "source": [
    "# Logistic Regression\n",
    "from sklearn.linear_model import LogisticRegression\n",
    "lr = LogisticRegression(penalty='l2', dual=False, tol=0.0001, C=1.0, fit_intercept=True, intercept_scaling=1, \n",
    "                           class_weight='balanced', random_state=0, solver='newton-cg', max_iter=100, \n",
    "                           multi_class='auto', verbose=0, warm_start=False, n_jobs=None)\n",
    "lr.fit(x_train, np.argmax(labels_train,axis = 1))\n",
    "print('test accuracy: ',lr.score(x_test,np.argmax(labels_test,axis = 1)))\n",
    "print('aside accuracy: ',lr.score(x_aside,np.argmax(labels_aside,axis = 1)))"
   ]
  },
  {
   "cell_type": "markdown",
   "metadata": {
    "id": "mQWthqnMgHat"
   },
   "source": [
    "# Create and apply Deepfool Attack with ART onResNet 50 (using 120 aside images)"
   ]
  },
  {
   "cell_type": "code",
   "execution_count": null,
   "metadata": {
    "id": "vtX4o2wo4Gi_"
   },
   "outputs": [],
   "source": [
    "# Create a ART Keras classifier for the TensorFlow Keras model.\n",
    "classifier = SklearnClassifier(model = lr)"
   ]
  },
  {
   "cell_type": "code",
   "execution_count": null,
   "metadata": {
    "colab": {
     "base_uri": "https://localhost:8080/"
    },
    "executionInfo": {
     "elapsed": 105894,
     "status": "ok",
     "timestamp": 1638414788387,
     "user": {
      "displayName": "Silence Ma",
      "photoUrl": "https://lh3.googleusercontent.com/a/default-user=s64",
      "userId": "01344304277965432029"
     },
     "user_tz": 480
    },
    "id": "AwpKw3W44kVa",
    "outputId": "65214aa8-11b2-40a2-e879-27674ed8e740"
   },
   "outputs": [
    {
     "name": "stdout",
     "output_type": "stream",
     "text": [
      "Accuracy on adversarial test data: 24.17%\n",
      "Average perturbation: 0.00\n"
     ]
    }
   ],
   "source": [
    "# Create a ART Deepfool attack.\n",
    "attack_df = DeepFool(classifier = classifier, max_iter = 100, epsilon = 0.1,verbose = False)\n",
    "# Generate adversarial test data.\n",
    "x_test_adv = attack_df.generate(x_aside)\n",
    "# Evaluate accuracy on adversarial test data and calculate average perturbation.\n",
    "accuracy_test = lr.score(x_test_adv, np.argmax(labels_aside,axis = 1))\n",
    "perturbation = np.mean(np.abs((x_test_adv - x_aside)))\n",
    "print('Accuracy on adversarial test data: {:4.2f}%'.format(accuracy_test * 100))\n",
    "print('Average perturbation: {:4.2f}'.format(perturbation))"
   ]
  },
  {
   "cell_type": "markdown",
   "metadata": {
    "id": "6TX4cSb2gzzN"
   },
   "source": [
    "# Implement adversarial aside examples to ML and DL models"
   ]
  },
  {
   "cell_type": "code",
   "execution_count": null,
   "metadata": {
    "colab": {
     "base_uri": "https://localhost:8080/"
    },
    "executionInfo": {
     "elapsed": 6827,
     "status": "ok",
     "timestamp": 1638414795189,
     "user": {
      "displayName": "Silence Ma",
      "photoUrl": "https://lh3.googleusercontent.com/a/default-user=s64",
      "userId": "01344304277965432029"
     },
     "user_tz": 480
    },
    "id": "t7-nJRaTKRTx",
    "outputId": "b07caec0-832b-46d1-ea8b-95f5f19228b8"
   },
   "outputs": [
    {
     "name": "stdout",
     "output_type": "stream",
     "text": [
      "test accuracy:  0.5606060606060606\n",
      "aside accuracy:  0.5416666666666666\n",
      "Deepfool aside accuracy:  0.5333333333333333\n"
     ]
    }
   ],
   "source": [
    "# K nearest neighbors\n",
    "from sklearn.neighbors import KNeighborsClassifier\n",
    "\n",
    "neigh = KNeighborsClassifier(n_neighbors = 3)\n",
    "neigh.fit(x_train, np.argmax(labels_train,axis = 1))\n",
    "print('test accuracy: ',neigh.score(x_test,np.argmax(labels_test,axis = 1)))\n",
    "print('aside accuracy: ',neigh.score(x_aside,np.argmax(labels_aside,axis = 1)))\n",
    "print('Deepfool aside accuracy: ',neigh.score(x_test_adv, np.argmax(labels_aside,axis = 1)))"
   ]
  },
  {
   "cell_type": "code",
   "execution_count": null,
   "metadata": {
    "colab": {
     "base_uri": "https://localhost:8080/"
    },
    "executionInfo": {
     "elapsed": 29302,
     "status": "ok",
     "timestamp": 1638414824457,
     "user": {
      "displayName": "Silence Ma",
      "photoUrl": "https://lh3.googleusercontent.com/a/default-user=s64",
      "userId": "01344304277965432029"
     },
     "user_tz": 480
    },
    "id": "BwG8qOabK3as",
    "outputId": "ff483930-88ce-4d76-8269-aaa1886aafb1"
   },
   "outputs": [
    {
     "name": "stdout",
     "output_type": "stream",
     "text": [
      "test accuracy:  0.48484848484848486\n",
      "aside accuracy:  0.525\n",
      "Deepfool aside accuracy:  0.5333333333333333\n"
     ]
    }
   ],
   "source": [
    "# Decision tree\n",
    "from sklearn import tree\n",
    "\n",
    "tr = tree.DecisionTreeClassifier()\n",
    "tr.fit(x_train, np.argmax(labels_train,axis = 1))\n",
    "print('test accuracy: ',tr.score(x_test,np.argmax(labels_test,axis = 1)))\n",
    "print('aside accuracy: ',tr.score(x_aside,np.argmax(labels_aside,axis = 1)))\n",
    "print('Deepfool aside accuracy: ',tr.score(x_test_adv, np.argmax(labels_aside,axis = 1)))"
   ]
  },
  {
   "cell_type": "code",
   "execution_count": null,
   "metadata": {
    "colab": {
     "base_uri": "https://localhost:8080/"
    },
    "executionInfo": {
     "elapsed": 79168,
     "status": "ok",
     "timestamp": 1638414903610,
     "user": {
      "displayName": "Silence Ma",
      "photoUrl": "https://lh3.googleusercontent.com/a/default-user=s64",
      "userId": "01344304277965432029"
     },
     "user_tz": 480
    },
    "id": "qJc0A1DXLAGF",
    "outputId": "60493955-3d26-4e25-ff13-43ec5c669d88"
   },
   "outputs": [
    {
     "name": "stdout",
     "output_type": "stream",
     "text": [
      "test accuracy:  0.6742424242424242\n",
      "aside accuracy:  0.6083333333333333\n",
      "Deepfool aside accuracy:  0.5833333333333334\n"
     ]
    }
   ],
   "source": [
    "# Support vector machine\n",
    "from sklearn import svm\n",
    "\n",
    "svm_1 = svm.SVC()\n",
    "svm_1.fit(x_train, np.argmax(labels_train,axis = 1))\n",
    "print('test accuracy: ',svm_1.score(x_test,np.argmax(labels_test,axis = 1)))\n",
    "print('aside accuracy: ',svm_1.score(x_aside,np.argmax(labels_aside,axis = 1)))\n",
    "print('Deepfool aside accuracy: ',svm_1.score(x_test_adv, np.argmax(labels_aside,axis = 1)))"
   ]
  },
  {
   "cell_type": "code",
   "execution_count": null,
   "metadata": {
    "colab": {
     "base_uri": "https://localhost:8080/"
    },
    "executionInfo": {
     "elapsed": 1137,
     "status": "ok",
     "timestamp": 1638414904714,
     "user": {
      "displayName": "Silence Ma",
      "photoUrl": "https://lh3.googleusercontent.com/a/default-user=s64",
      "userId": "01344304277965432029"
     },
     "user_tz": 480
    },
    "id": "JjMzuyPVMkKk",
    "outputId": "ce1c98a3-13e8-46ee-f4b7-97494a63de53"
   },
   "outputs": [
    {
     "name": "stdout",
     "output_type": "stream",
     "text": [
      "test accuracy:  0.5757575757575758\n",
      "aside accuracy:  0.4666666666666667\n",
      "Deepfool aside accuracy:  0.4666666666666667\n"
     ]
    }
   ],
   "source": [
    "# Navie Bayers\n",
    "from sklearn.naive_bayes import BernoulliNB\n",
    "\n",
    "nb = BernoulliNB()\n",
    "nb.fit(x_train, np.argmax(labels_train,axis = 1))\n",
    "print('test accuracy: ',nb.score(x_test,np.argmax(labels_test,axis = 1)))\n",
    "print('aside accuracy: ',nb.score(x_aside,np.argmax(labels_aside,axis = 1)))\n",
    "print('Deepfool aside accuracy: ',nb.score(x_test_adv, np.argmax(labels_aside,axis = 1)))"
   ]
  },
  {
   "cell_type": "code",
   "execution_count": null,
   "metadata": {
    "colab": {
     "base_uri": "https://localhost:8080/"
    },
    "executionInfo": {
     "elapsed": 544229,
     "status": "ok",
     "timestamp": 1638415448937,
     "user": {
      "displayName": "Silence Ma",
      "photoUrl": "https://lh3.googleusercontent.com/a/default-user=s64",
      "userId": "01344304277965432029"
     },
     "user_tz": 480
    },
    "id": "MOLoY9QUNSGX",
    "outputId": "ede45b68-789e-4db6-9683-83308ad54e86"
   },
   "outputs": [
    {
     "name": "stdout",
     "output_type": "stream",
     "text": [
      "test accuracy:  0.6893939393939394\n",
      "aside accuracy:  0.6\n",
      "Deepfool aside accuracy:  0.5916666666666667\n"
     ]
    }
   ],
   "source": [
    "# Bagging classifier\n",
    "from sklearn.svm import SVC\n",
    "from sklearn.ensemble import BaggingClassifier\n",
    "\n",
    "bag = BaggingClassifier(base_estimator=SVC(), n_estimators=10, random_state=0)\n",
    "bag.fit(x_train, np.argmax(labels_train,axis = 1))\n",
    "print('test accuracy: ',bag.score(x_test,np.argmax(labels_test,axis = 1)))\n",
    "print('aside accuracy: ',bag.score(x_aside,np.argmax(labels_aside,axis = 1)))\n",
    "print('Deepfool aside accuracy: ',bag.score(x_test_adv, np.argmax(labels_aside,axis = 1)))"
   ]
  },
  {
   "cell_type": "code",
   "execution_count": null,
   "metadata": {
    "colab": {
     "base_uri": "https://localhost:8080/"
    },
    "executionInfo": {
     "elapsed": 1948,
     "status": "ok",
     "timestamp": 1638415450854,
     "user": {
      "displayName": "Silence Ma",
      "photoUrl": "https://lh3.googleusercontent.com/a/default-user=s64",
      "userId": "01344304277965432029"
     },
     "user_tz": 480
    },
    "id": "FYj6D6kHTaXh",
    "outputId": "f7b2d949-c39b-4b21-98c2-5acfbaeb9a94"
   },
   "outputs": [
    {
     "name": "stdout",
     "output_type": "stream",
     "text": [
      "test accuracy:  0.6515151515151515\n",
      "aside accuracy:  0.575\n",
      "Deepfool aside accuracy:  0.575\n"
     ]
    }
   ],
   "source": [
    "# Random forest\n",
    "from sklearn.ensemble import RandomForestClassifier\n",
    "\n",
    "rf = RandomForestClassifier(max_depth=2, random_state=0)\n",
    "rf.fit(x_train, np.argmax(labels_train,axis = 1))\n",
    "print('test accuracy: ',rf.score(x_test,np.argmax(labels_test,axis = 1)))\n",
    "print('aside accuracy: ',rf.score(x_aside,np.argmax(labels_aside,axis = 1)))\n",
    "print('Deepfool aside accuracy: ',rf.score(x_test_adv, np.argmax(labels_aside,axis = 1)))"
   ]
  },
  {
   "cell_type": "code",
   "execution_count": null,
   "metadata": {
    "colab": {
     "base_uri": "https://localhost:8080/"
    },
    "executionInfo": {
     "elapsed": 3359,
     "status": "ok",
     "timestamp": 1638415454200,
     "user": {
      "displayName": "Silence Ma",
      "photoUrl": "https://lh3.googleusercontent.com/a/default-user=s64",
      "userId": "01344304277965432029"
     },
     "user_tz": 480
    },
    "id": "m8g4e9DNNVql",
    "outputId": "62f8e70d-afbe-4637-e260-8789c41cfb7d"
   },
   "outputs": [
    {
     "name": "stdout",
     "output_type": "stream",
     "text": [
      "test accuracy:  0.7348484848484849\n",
      "aside accuracy:  0.6666666666666666\n",
      "Deepfool aside accuracy:  0.6666666666666666\n"
     ]
    }
   ],
   "source": [
    "# Extra trees\n",
    "from sklearn.ensemble import ExtraTreesClassifier\n",
    "\n",
    "ec =  ExtraTreesClassifier(n_estimators=100, random_state=0)\n",
    "ec.fit(x_train, np.argmax(labels_train,axis = 1))\n",
    "print('test accuracy: ',ec.score(x_test,np.argmax(labels_test,axis = 1)))\n",
    "print('aside accuracy: ',ec.score(x_aside,np.argmax(labels_aside,axis = 1)))\n",
    "print('Deepfool aside accuracy: ',ec.score(x_test_adv, np.argmax(labels_aside,axis = 1)))"
   ]
  },
  {
   "cell_type": "code",
   "execution_count": null,
   "metadata": {
    "colab": {
     "base_uri": "https://localhost:8080/"
    },
    "executionInfo": {
     "elapsed": 1317510,
     "status": "ok",
     "timestamp": 1638416771679,
     "user": {
      "displayName": "Silence Ma",
      "photoUrl": "https://lh3.googleusercontent.com/a/default-user=s64",
      "userId": "01344304277965432029"
     },
     "user_tz": 480
    },
    "id": "1uLUeKQxNkcX",
    "outputId": "16fd62fb-263a-4a78-ce45-73955ad675a0"
   },
   "outputs": [
    {
     "name": "stdout",
     "output_type": "stream",
     "text": [
      "test accuracy:  0.6287878787878788\n",
      "aside accuracy:  0.6166666666666667\n",
      "Deepfool aside accuracy:  0.55\n"
     ]
    }
   ],
   "source": [
    "# Gradient boosting\n",
    "from sklearn.ensemble import GradientBoostingClassifier\n",
    "\n",
    "gb = GradientBoostingClassifier(n_estimators=100, learning_rate=1.0, max_depth=1, random_state=0)\n",
    "gb.fit(x_train, np.argmax(labels_train,axis = 1))\n",
    "print('test accuracy: ',gb.score(x_test,np.argmax(labels_test,axis = 1)))\n",
    "print('aside accuracy: ',gb.score(x_aside,np.argmax(labels_aside,axis = 1)))\n",
    "print('Deepfool aside accuracy: ',gb.score(x_test_adv, np.argmax(labels_aside,axis = 1)))"
   ]
  },
  {
   "cell_type": "code",
   "execution_count": null,
   "metadata": {
    "colab": {
     "base_uri": "https://localhost:8080/"
    },
    "executionInfo": {
     "elapsed": 27160,
     "status": "ok",
     "timestamp": 1638416798828,
     "user": {
      "displayName": "Silence Ma",
      "photoUrl": "https://lh3.googleusercontent.com/a/default-user=s64",
      "userId": "01344304277965432029"
     },
     "user_tz": 480
    },
    "id": "wGuEYUaRNxVd",
    "outputId": "5bdb978d-c45b-4c05-f23c-5b88fdc1b525"
   },
   "outputs": [
    {
     "name": "stdout",
     "output_type": "stream",
     "text": [
      "WARNING:tensorflow:From /usr/local/lib/python3.7/dist-packages/keras/layers/normalization/batch_normalization.py:532: _colocate_with (from tensorflow.python.framework.ops) is deprecated and will be removed in a future version.\n",
      "Instructions for updating:\n",
      "Colocations handled automatically by placer.\n"
     ]
    },
    {
     "name": "stderr",
     "output_type": "stream",
     "text": [
      "/usr/local/lib/python3.7/dist-packages/keras/engine/training_v1.py:2057: UserWarning: `Model.state_updates` will be removed in a future version. This property should not be used in TensorFlow 2.0, as `updates` are applied automatically.\n",
      "  updates = self.state_updates\n"
     ]
    },
    {
     "name": "stdout",
     "output_type": "stream",
     "text": [
      " resnet50 aside test loss, test acc: [0.9072018581132094, 0.85]\n"
     ]
    }
   ],
   "source": [
    "# load ResNet50 and build model\n",
    "model = keras.models.load_model(PROJECT_ROOT_DIR + 'BUSI_dataset_resnet50.h5')\n",
    "model.build((224,224,3))\n",
    "# SGD optimizer\n",
    "optimizer = keras.optimizers.SGD(learning_rate=LR)\n",
    "# compile the keras model\n",
    "model.compile(loss = 'categorical_crossentropy', optimizer = optimizer, metrics = ['accuracy'])\n",
    "# evaluate the keras model with aside images\n",
    "# reshape fattlen array to (224,224,3) image\n",
    "results = model.evaluate(x_test_adv.reshape(x_test_adv.shape[0],224,224,3), labels_aside)\n",
    "print(\" resnet50 aside test loss, test acc:\", results)"
   ]
  },
  {
   "cell_type": "code",
   "execution_count": null,
   "metadata": {
    "colab": {
     "base_uri": "https://localhost:8080/"
    },
    "executionInfo": {
     "elapsed": 19456,
     "status": "ok",
     "timestamp": 1638416818266,
     "user": {
      "displayName": "Silence Ma",
      "photoUrl": "https://lh3.googleusercontent.com/a/default-user=s64",
      "userId": "01344304277965432029"
     },
     "user_tz": 480
    },
    "id": "T92UI5rFcxJl",
    "outputId": "01fc8fe5-178e-423d-f401-fdc6e66aa52f"
   },
   "outputs": [
    {
     "name": "stderr",
     "output_type": "stream",
     "text": [
      "/usr/local/lib/python3.7/dist-packages/keras/engine/training_v1.py:2057: UserWarning: `Model.state_updates` will be removed in a future version. This property should not be used in TensorFlow 2.0, as `updates` are applied automatically.\n",
      "  updates = self.state_updates\n"
     ]
    },
    {
     "name": "stdout",
     "output_type": "stream",
     "text": [
      "MobileNet aside test loss, test acc: [2.5952537874380748, 0.85]\n"
     ]
    }
   ],
   "source": [
    "# load MobileNet and build model\n",
    "SAVE_ROOT_DIR = 'drive/My Drive/CS504(AML)/Course Project/'\n",
    "model_MobileNet = keras.models.load_model(SAVE_ROOT_DIR + 'BUSI_dataset_MobileNet.h5')\n",
    "model_MobileNet.build((224,224,3))\n",
    "# Adam optimizer\n",
    "optimizer = keras.optimizers.Adam(learning_rate=0.0001)\n",
    "# compile the keras model\n",
    "model_MobileNet.compile(loss = 'categorical_crossentropy', optimizer = optimizer, metrics = ['accuracy'])\n",
    "# evaluate the keras model with aside images\n",
    "# reshape fattlen array to (224,224,3) image\n",
    "results = model_MobileNet.evaluate(x_test_adv.reshape(x_test_adv.shape[0],224,224,3), labels_aside)\n",
    "print(\"MobileNet aside test loss, test acc:\", results)"
   ]
  }
 ],
 "metadata": {
  "accelerator": "GPU",
  "colab": {
   "authorship_tag": "ABX9TyOUK0WJLvUivtEr6jr+wkZH",
   "collapsed_sections": [],
   "machine_shape": "hm",
   "name": "BUSI_LR_Deepfool.ipynb",
   "provenance": [
    {
     "file_id": "1SxmzlL9V8hwpeyFQPHT--9JrIxf1XXzp",
     "timestamp": 1638413204362
    },
    {
     "file_id": "14qDfnK23XnSSZZmHV3ZekMJm0OYRpK7v",
     "timestamp": 1638409159665
    }
   ]
  },
  "kernelspec": {
   "display_name": "Python 3",
   "language": "python",
   "name": "python3"
  },
  "language_info": {
   "codemirror_mode": {
    "name": "ipython",
    "version": 3
   },
   "file_extension": ".py",
   "mimetype": "text/x-python",
   "name": "python",
   "nbconvert_exporter": "python",
   "pygments_lexer": "ipython3",
   "version": "3.7.3"
  }
 },
 "nbformat": 4,
 "nbformat_minor": 1
}
