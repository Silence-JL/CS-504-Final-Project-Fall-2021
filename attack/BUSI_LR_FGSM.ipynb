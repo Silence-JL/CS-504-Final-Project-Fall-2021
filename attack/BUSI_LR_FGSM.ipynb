{
 "cells": [
  {
   "cell_type": "code",
   "execution_count": null,
   "metadata": {
    "colab": {
     "base_uri": "https://localhost:8080/"
    },
    "executionInfo": {
     "elapsed": 254,
     "status": "ok",
     "timestamp": 1638412904602,
     "user": {
      "displayName": "Silence Ma",
      "photoUrl": "https://lh3.googleusercontent.com/a/default-user=s64",
      "userId": "01344304277965432029"
     },
     "user_tz": 480
    },
    "id": "-_fDtaL93Qy4",
    "outputId": "da6154d3-31e5-4b0e-e949-aa18216d1e28"
   },
   "outputs": [
    {
     "name": "stdout",
     "output_type": "stream",
     "text": [
      "Drive already mounted at /content/drive; to attempt to forcibly remount, call drive.mount(\"/content/drive\", force_remount=True).\n"
     ]
    }
   ],
   "source": [
    "# mount google drive on your runtime using and authorization code.\n",
    "# more details here: https://colab.research.google.com/notebooks/io.ipynbfrom google.colab import drive\n",
    "from google.colab import drive\n",
    "drive.mount('/content/drive')"
   ]
  },
  {
   "cell_type": "code",
   "execution_count": null,
   "metadata": {
    "colab": {
     "base_uri": "https://localhost:8080/"
    },
    "executionInfo": {
     "elapsed": 3058,
     "status": "ok",
     "timestamp": 1638412907814,
     "user": {
      "displayName": "Silence Ma",
      "photoUrl": "https://lh3.googleusercontent.com/a/default-user=s64",
      "userId": "01344304277965432029"
     },
     "user_tz": 480
    },
    "id": "Q2Dj-KKI3W88",
    "outputId": "e18a68fa-49ea-414c-dfd2-114abd954517"
   },
   "outputs": [
    {
     "name": "stdout",
     "output_type": "stream",
     "text": [
      "Requirement already satisfied: adversarial-robustness-toolbox in /usr/local/lib/python3.7/dist-packages (1.8.1)\n",
      "Requirement already satisfied: six in /usr/local/lib/python3.7/dist-packages (from adversarial-robustness-toolbox) (1.15.0)\n",
      "Requirement already satisfied: numba>=0.53.1 in /usr/local/lib/python3.7/dist-packages (from adversarial-robustness-toolbox) (0.54.1)\n",
      "Requirement already satisfied: scikit-learn<1.1.0,>=0.22.2 in /usr/local/lib/python3.7/dist-packages (from adversarial-robustness-toolbox) (1.0.1)\n",
      "Requirement already satisfied: scipy>=1.4.1 in /usr/local/lib/python3.7/dist-packages (from adversarial-robustness-toolbox) (1.4.1)\n",
      "Requirement already satisfied: numpy>=1.18.0 in /usr/local/lib/python3.7/dist-packages (from adversarial-robustness-toolbox) (1.19.5)\n",
      "Requirement already satisfied: setuptools in /usr/local/lib/python3.7/dist-packages (from adversarial-robustness-toolbox) (57.4.0)\n",
      "Requirement already satisfied: tqdm in /usr/local/lib/python3.7/dist-packages (from adversarial-robustness-toolbox) (4.62.3)\n",
      "Requirement already satisfied: llvmlite<0.38,>=0.37.0rc1 in /usr/local/lib/python3.7/dist-packages (from numba>=0.53.1->adversarial-robustness-toolbox) (0.37.0)\n",
      "Requirement already satisfied: threadpoolctl>=2.0.0 in /usr/local/lib/python3.7/dist-packages (from scikit-learn<1.1.0,>=0.22.2->adversarial-robustness-toolbox) (3.0.0)\n",
      "Requirement already satisfied: joblib>=0.11 in /usr/local/lib/python3.7/dist-packages (from scikit-learn<1.1.0,>=0.22.2->adversarial-robustness-toolbox) (1.1.0)\n"
     ]
    }
   ],
   "source": [
    "# install adversarial robustness toolbox for attacking (NEED TO RESTART RUNTIME AT FIRST TIME)\n",
    "!pip install adversarial-robustness-toolbox"
   ]
  },
  {
   "cell_type": "code",
   "execution_count": null,
   "metadata": {
    "colab": {
     "base_uri": "https://localhost:8080/"
    },
    "executionInfo": {
     "elapsed": 5127,
     "status": "ok",
     "timestamp": 1638412912933,
     "user": {
      "displayName": "Silence Ma",
      "photoUrl": "https://lh3.googleusercontent.com/a/default-user=s64",
      "userId": "01344304277965432029"
     },
     "user_tz": 480
    },
    "id": "dOC-SEl9_Tqg",
    "outputId": "a8c8cfe1-8461-4aec-d03d-2ed325888e83"
   },
   "outputs": [
    {
     "name": "stdout",
     "output_type": "stream",
     "text": [
      "GPUs Available:  [PhysicalDevice(name='/physical_device:GPU:0', device_type='GPU')]\n",
      "Device mapping:\n",
      "/job:localhost/replica:0/task:0/device:GPU:0 -> device: 0, name: Tesla P100-PCIE-16GB, pci bus id: 0000:00:04.0, compute capability: 6.0\n",
      "\n"
     ]
    }
   ],
   "source": [
    "# import library\n",
    "import numpy as np\n",
    "import pandas as pd\n",
    "import random\n",
    "\n",
    "import tensorflow as tf\n",
    "from tensorflow import keras\n",
    "from keras.models import Model\n",
    "from tensorflow.keras.utils import to_categorical\n",
    "import matplotlib.pyplot as plt\n",
    "%matplotlib inline\n",
    "import pickle\n",
    "import os\n",
    "import cv2\n",
    "from google.colab.patches import cv2_imshow\n",
    "from imutils import paths\n",
    "from sklearn.model_selection import train_test_split\n",
    "from sklearn import preprocessing\n",
    "\n",
    "from art.estimators.classification import KerasClassifier\n",
    "from art.estimators.classification import SklearnClassifier\n",
    "from art.attacks.evasion import FastGradientMethod,ProjectedGradientDescent,DeepFool\n",
    "\n",
    "# check GPU is available\n",
    "print(\"GPUs Available: \", tf.config.list_physical_devices('GPU'))\n",
    "\n",
    "# set random seed of tensorflow\n",
    "random.seed(1)\n",
    "np.random.seed(1)\n",
    "tf.compat.v1.set_random_seed(1)\n",
    "tf.random.set_seed(1)\n",
    "config = tf.compat.v1.ConfigProto(intra_op_parallelism_threads=1, inter_op_parallelism_threads=1,log_device_placement =True)\n",
    "config.gpu_options.allow_growth = True\n",
    "sess = tf.compat.v1.Session(graph = tf.compat.v1.get_default_graph(), config = config)\n",
    "tf.compat.v1.keras.backend.set_session(sess)\n",
    "tf.compat.v1.disable_eager_execution()"
   ]
  },
  {
   "cell_type": "code",
   "execution_count": null,
   "metadata": {
    "id": "Trwm2Vsn3YVL"
   },
   "outputs": [],
   "source": [
    "# Path to the directory containing the project files (CHANGE THIS PATH TO THE DIRECTORY ON YOUR COMPUTER OR GOOGLE DRIVE)\n",
    "PROJECT_ROOT_DIR = 'drive/My Drive/CS504(AML)/HW1/BUSI/'\n",
    "\n",
    "# Path to the directory containing the dataset (DOWNLOAD THE BUSI_DATASET DIRECTORY FROM FOLLOWING LINK)\n",
    "# DOWNLOAD BUSI dataset here: https://scholar.cu.edu.eg/?q=afahmy/pages/dataset\n",
    "DATA_DIR = 'Dataset_BUSI_with_GT/'"
   ]
  },
  {
   "cell_type": "markdown",
   "metadata": {
    "id": "tqbeAP-Gfl9F"
   },
   "source": [
    "# Load the BUSI images and labels"
   ]
  },
  {
   "cell_type": "code",
   "execution_count": null,
   "metadata": {
    "cellView": "code",
    "id": "LTxT38-8_k7v"
   },
   "outputs": [],
   "source": [
    "# Funciton for loading the dataset\n",
    "# reference: https://www.pyimagesearch.com/2018/09/10/keras-tutorial-how-to-get-started-with-keras-deep-learning-and-python/\n",
    "def load_image():\n",
    "  # initialize the data and labels for each class\n",
    "  data = []\n",
    "  labels = []\n",
    "\n",
    "  data_aside = []\n",
    "  labels_aside = []\n",
    "\n",
    "  benign_data = []\n",
    "  benign_labels = []\n",
    "\n",
    "  malignant_data = []\n",
    "  malignant_labels = []\n",
    "\n",
    "  normal_data = []\n",
    "  normal_labels = []\n",
    "\n",
    "  # load benign image\n",
    "  for i in range(1,438):\n",
    "    image = cv2.imread(PROJECT_ROOT_DIR + DATA_DIR + 'benign/' + 'benign (' + str(i) + ').png')\n",
    "    #cv2_imshow(image)\n",
    "    # resize image to 224 * 224 * 3\n",
    "    image = cv2.resize(image, (224, 224))\n",
    "    benign_data.append(image)\n",
    "    # extract the class label from the image folder\n",
    "    benign_labels.append('benign')\n",
    "  # random Select 120 images and set them aside as Adversarial Attack images. These include 60 benign images, 30 malignant images, and 30 normal images\n",
    "  # select 60 benign images\n",
    "  random.seed(1)\n",
    "  random_sample = random.sample(range(len(benign_data)),60)\n",
    "  #print(random_sample)\n",
    "  for i in range(0,437):\n",
    "    if i in random_sample:\n",
    "      data_aside.append(benign_data[i])\n",
    "      labels_aside.append(benign_labels[i])\n",
    "    else:\n",
    "      data.append(benign_data[i])\n",
    "      labels.append(benign_labels[i])\n",
    "\n",
    "  # load malignant image\n",
    "  for i in range(1,211):\n",
    "    image = cv2.imread(PROJECT_ROOT_DIR + DATA_DIR + 'malignant/' + 'malignant (' + str(i) + ').png')\n",
    "    #cv2_imshow(image)\n",
    "    # resize image to 224 * 224 * 3\n",
    "    image = cv2.resize(image, (224, 224))\n",
    "    malignant_data.append(image)\n",
    "    # extract the class label from the image folder\n",
    "    malignant_labels.append('malignant')\n",
    "  # select 30 malignant images\n",
    "  random.seed(1)\n",
    "  random_sample = random.sample(range(len(malignant_data)),30)\n",
    "  #print(random_sample)\n",
    "  for i in range(0,210):\n",
    "    if i in random_sample:\n",
    "      data_aside.append(malignant_data[i])\n",
    "      labels_aside.append(malignant_labels[i])\n",
    "    else:\n",
    "      data.append(malignant_data[i])\n",
    "      labels.append(malignant_labels[i])\n",
    "  \n",
    "  # load normal image\n",
    "  for i in range(1,134):\n",
    "    image = cv2.imread(PROJECT_ROOT_DIR + DATA_DIR + 'normal/' + 'normal (' + str(i) + ').png')\n",
    "    #cv2_imshow(image)\n",
    "    # resize image to 224 * 224 * 3\n",
    "    image = cv2.resize(image, (224, 224))\n",
    "    normal_data.append(image)\n",
    "    # extract the class label from the image folder\n",
    "    normal_labels.append('normal')\n",
    "  # select 30 normal images\n",
    "  random.seed(1)\n",
    "  random_sample = random.sample(range(len(normal_data)),30)\n",
    "  #print(random_sample)\n",
    "  for i in range(0,133):\n",
    "    if i in random_sample:\n",
    "      data_aside.append(normal_data[i])\n",
    "      labels_aside.append(normal_labels[i])\n",
    "    else:\n",
    "      data.append(normal_data[i])\n",
    "      labels.append(normal_labels[i])  \n",
    "\n",
    "  return data, labels, data_aside, labels_aside\n",
    "# Function for image preprocessing \n",
    "def preprocess(data,labels,data_aside, labels_aside):\n",
    "  # Save training and test image to numpy, Scale image features to be in [0, 1]\n",
    "  data = np.array(data, dtype = np.float32) / 255.0\n",
    "  # Save labels to numpy encode label to integer catergory 0 = 'benign', 1 = 'malignant', 2 = 'normal'\n",
    "  labels = np.array(labels)\n",
    "  new_label_encoder = preprocessing.LabelEncoder()\n",
    "  new_label_encoder.fit(labels)\n",
    "  targets = new_label_encoder.transform(labels)\n",
    "  #print(targets.shape)\n",
    "  #counts = {i:targets.tolist().count(i) for i in targets}\n",
    "  #print(counts)\n",
    "  # Save aside image to numpy, Scale image features to be in [0, 1]\n",
    "  data_aside = np.array(data_aside, dtype = np.float32) / 255.0\n",
    "  # Save labels to numpy encode label to integer catergory 0 = 'benign', 1 = 'malignant', 2 = 'normal' \n",
    "  labels_aside = np.array(labels_aside)\n",
    "  new_labels_aside_encoder = preprocessing.LabelEncoder()\n",
    "  new_labels_aside_encoder.fit(labels_aside)\n",
    "  targets2 = new_label_encoder.transform(labels_aside)\n",
    "  return data, targets, data_aside, targets2"
   ]
  },
  {
   "cell_type": "code",
   "execution_count": null,
   "metadata": {
    "id": "sfx8YFwEUggO"
   },
   "outputs": [],
   "source": [
    "# Load the images and labels\n",
    "data, labels, data_aside, labels_aside = load_image()\n",
    "data, labels, data_aside, labels_aside = preprocess(data,labels,data_aside, labels_aside)\n",
    "\n",
    "# split data into 80% train and 20% test, shuffle the data with\n",
    "(imgs_train, imgs_test, labels_train, labels_test) = train_test_split(data, labels, test_size = 0.2, random_state=42, shuffle = True)\n",
    "# split data into 60% train data and 20% validation data\n",
    "(imgs_train, imgs_val, labels_train, labels_val) = train_test_split(imgs_train, labels_train, test_size = 0.2, random_state=42, shuffle = True)"
   ]
  },
  {
   "cell_type": "code",
   "execution_count": null,
   "metadata": {
    "colab": {
     "base_uri": "https://localhost:8080/"
    },
    "executionInfo": {
     "elapsed": 12,
     "status": "ok",
     "timestamp": 1638412920961,
     "user": {
      "displayName": "Silence Ma",
      "photoUrl": "https://lh3.googleusercontent.com/a/default-user=s64",
      "userId": "01344304277965432029"
     },
     "user_tz": 480
    },
    "id": "YFX8ENErVXih",
    "outputId": "f752c141-c5a5-4e36-96bc-4c7e9ea0d22c"
   },
   "outputs": [
    {
     "name": "stdout",
     "output_type": "stream",
     "text": [
      "Images train shape: (422, 224, 224, 3) - Labels train shape: (422,)\n",
      "Images validation shape: (106, 224, 224, 3) - Labels validation shape: (106,)\n",
      "Images test shape: (132, 224, 224, 3) - Labels test shape: (132,)\n",
      "Aside images shape: (120, 224, 224, 3) - Aside Labels shape: (120,)\n",
      "\n",
      "Max pixel value 1.0\n",
      "Min pixel value 0.0\n",
      "Average pixel value 0.32330388\n",
      "Data type float32\n"
     ]
    }
   ],
   "source": [
    "# Display the shapes of train, validation, and test datasets\n",
    "print('Images train shape: {} - Labels train shape: {}'.format(imgs_train.shape, labels_train.shape))\n",
    "print('Images validation shape: {} - Labels validation shape: {}'.format(imgs_val.shape, labels_val.shape))\n",
    "print('Images test shape: {} - Labels test shape: {}'.format(imgs_test.shape, labels_test.shape))\n",
    "print('Aside images shape: {} - Aside Labels shape: {}'.format(data_aside.shape, labels_aside.shape))\n",
    "# Display the range of images (to make sure they are in the [0, 1] range)\n",
    "print('\\nMax pixel value', np.max(imgs_train))\n",
    "print('Min pixel value', np.min(imgs_train))\n",
    "print('Average pixel value', np.mean(imgs_train))\n",
    "print('Data type', imgs_train[0].dtype)"
   ]
  },
  {
   "cell_type": "code",
   "execution_count": null,
   "metadata": {
    "id": "FaCAEmH8X3pP"
   },
   "outputs": [],
   "source": [
    "# Set constants (BUSI)\n",
    "NUM_LABELS = 3                             # Number of labels\n",
    "BATCH_SIZE = 4                             # Size of batch\n",
    "HEIGHT = 224                                 # Height of input image\n",
    "WIDTH = 224                                  # Width of input image\n",
    "N_CHANNEL = 3                               # Number of channels\n",
    "OUTPUT_DIM = 3                             # Number of output dimension\n",
    "\n",
    "# Set training hyperparameters\n",
    "NUM_EPOCH = 100                             # Number of epoch to train\n",
    "LR = 0.01                                 # Learning rate\n",
    "\n",
    "INPUT_SHAPE = (HEIGHT, WIDTH, N_CHANNEL)  # Input shape of model\n",
    "IMG_SHAPE = (HEIGHT, WIDTH, N_CHANNEL)"
   ]
  },
  {
   "cell_type": "code",
   "execution_count": null,
   "metadata": {
    "colab": {
     "base_uri": "https://localhost:8080/"
    },
    "executionInfo": {
     "elapsed": 7,
     "status": "ok",
     "timestamp": 1638412920962,
     "user": {
      "displayName": "Silence Ma",
      "photoUrl": "https://lh3.googleusercontent.com/a/default-user=s64",
      "userId": "01344304277965432029"
     },
     "user_tz": 480
    },
    "id": "_8AzkPCGX-0g",
    "outputId": "59b09c18-b16c-4d8f-aefb-544d12d205a6"
   },
   "outputs": [
    {
     "name": "stdout",
     "output_type": "stream",
     "text": [
      "Labels train shape: (422, 3)\n"
     ]
    }
   ],
   "source": [
    "# Convert the labels to one-hot encoding (to input to the models)\n",
    "labels_train = keras.utils.to_categorical(labels_train, NUM_LABELS)\n",
    "labels_test = keras.utils.to_categorical(labels_test, NUM_LABELS)\n",
    "labels_val = keras.utils.to_categorical(labels_val, NUM_LABELS)\n",
    "labels_aside = keras.utils.to_categorical(labels_aside, NUM_LABELS)\n",
    "print('Labels train shape: {}'.format(labels_train.shape))"
   ]
  },
  {
   "cell_type": "markdown",
   "metadata": {
    "id": "nJbK83ZmfwX9"
   },
   "source": [
    "# Train model by using Logistic Regression classifier in scikit-learn"
   ]
  },
  {
   "cell_type": "code",
   "execution_count": null,
   "metadata": {
    "id": "ucYSX-A96NoN"
   },
   "outputs": [],
   "source": [
    "# copy all images into a new variable\n",
    "x_train = imgs_train.copy()\n",
    "# flatten image features in train, test, aside and adversarial aside images\n",
    "x_train = x_train.reshape(x_train.shape[0],224*224*3)\n",
    "\n",
    "x_test = imgs_test.copy()\n",
    "x_test = x_test.reshape(x_test.shape[0],224*224*3)\n",
    "\n",
    "x_aside = data_aside.copy()\n",
    "x_aside = x_aside.reshape(x_aside.shape[0],224*224*3)"
   ]
  },
  {
   "cell_type": "code",
   "execution_count": null,
   "metadata": {
    "colab": {
     "base_uri": "https://localhost:8080/"
    },
    "executionInfo": {
     "elapsed": 280293,
     "status": "ok",
     "timestamp": 1638413201454,
     "user": {
      "displayName": "Silence Ma",
      "photoUrl": "https://lh3.googleusercontent.com/a/default-user=s64",
      "userId": "01344304277965432029"
     },
     "user_tz": 480
    },
    "id": "Ud2qahE2udvU",
    "outputId": "5d9056d8-6726-4e44-a5a9-968e1611badc"
   },
   "outputs": [
    {
     "name": "stdout",
     "output_type": "stream",
     "text": [
      "test accuracy:  0.6439393939393939\n",
      "aside accuracy:  0.6166666666666667\n"
     ]
    },
    {
     "name": "stderr",
     "output_type": "stream",
     "text": [
      "/usr/local/lib/python3.7/dist-packages/scipy/optimize/linesearch.py:314: LineSearchWarning: The line search algorithm did not converge\n",
      "  warn('The line search algorithm did not converge', LineSearchWarning)\n",
      "/usr/local/lib/python3.7/dist-packages/sklearn/utils/optimize.py:203: UserWarning: Line Search failed\n",
      "  warnings.warn(\"Line Search failed\")\n"
     ]
    }
   ],
   "source": [
    "# Logistic Regression\n",
    "from sklearn.linear_model import LogisticRegression\n",
    "lr = LogisticRegression(penalty='l2', dual=False, tol=0.0001, C=1.0, fit_intercept=True, intercept_scaling=1, \n",
    "                           class_weight='balanced', random_state=0, solver='newton-cg', max_iter=100, \n",
    "                           multi_class='auto', verbose=0, warm_start=False, n_jobs=None)\n",
    "lr.fit(x_train, np.argmax(labels_train,axis = 1))\n",
    "print('test accuracy: ',lr.score(x_test,np.argmax(labels_test,axis = 1)))\n",
    "print('aside accuracy: ',lr.score(x_aside,np.argmax(labels_aside,axis = 1)))"
   ]
  },
  {
   "cell_type": "markdown",
   "metadata": {
    "id": "mQWthqnMgHat"
   },
   "source": [
    "# Create and apply Fast Gradient Sign Method Attack with ART onResNet 50 (using 120 aside images)"
   ]
  },
  {
   "cell_type": "code",
   "execution_count": null,
   "metadata": {
    "id": "vtX4o2wo4Gi_"
   },
   "outputs": [],
   "source": [
    "# Create a ART Keras classifier for the TensorFlow Keras model.\n",
    "classifier = SklearnClassifier(model = lr)"
   ]
  },
  {
   "cell_type": "code",
   "execution_count": null,
   "metadata": {
    "colab": {
     "base_uri": "https://localhost:8080/"
    },
    "executionInfo": {
     "elapsed": 1030,
     "status": "ok",
     "timestamp": 1638413202479,
     "user": {
      "displayName": "Silence Ma",
      "photoUrl": "https://lh3.googleusercontent.com/a/default-user=s64",
      "userId": "01344304277965432029"
     },
     "user_tz": 480
    },
    "id": "AwpKw3W44kVa",
    "outputId": "75faa1dc-429f-4502-9084-07b1582b1050"
   },
   "outputs": [
    {
     "name": "stdout",
     "output_type": "stream",
     "text": [
      "Accuracy on adversarial test data: 26.67%\n",
      "Average perturbation: 0.10\n"
     ]
    }
   ],
   "source": [
    "# Create a ART FGSM attack.\n",
    "attack_fgsm = FastGradientMethod(estimator = classifier, norm = np.inf, eps = 0.1, targeted = False)\n",
    "# Generate adversarial test data.\n",
    "x_test_adv = attack_fgsm.generate(x_aside)\n",
    "# Evaluate accuracy on adversarial test data and calculate average perturbation.\n",
    "accuracy_test = lr.score(x_test_adv, np.argmax(labels_aside,axis = 1))\n",
    "perturbation = np.mean(np.abs((x_test_adv - x_aside)))\n",
    "print('Accuracy on adversarial test data: {:4.2f}%'.format(accuracy_test * 100))\n",
    "print('Average perturbation: {:4.2f}'.format(perturbation))"
   ]
  },
  {
   "cell_type": "markdown",
   "metadata": {
    "id": "6TX4cSb2gzzN"
   },
   "source": [
    "# Implement adversarial aside examples to ML and DL models"
   ]
  },
  {
   "cell_type": "code",
   "execution_count": null,
   "metadata": {
    "colab": {
     "base_uri": "https://localhost:8080/"
    },
    "executionInfo": {
     "elapsed": 6800,
     "status": "ok",
     "timestamp": 1638413209274,
     "user": {
      "displayName": "Silence Ma",
      "photoUrl": "https://lh3.googleusercontent.com/a/default-user=s64",
      "userId": "01344304277965432029"
     },
     "user_tz": 480
    },
    "id": "t7-nJRaTKRTx",
    "outputId": "c7fc1a4d-a78b-40bd-a865-4a4b23a4bb40"
   },
   "outputs": [
    {
     "name": "stdout",
     "output_type": "stream",
     "text": [
      "test accuracy:  0.5606060606060606\n",
      "aside accuracy:  0.5416666666666666\n",
      "FGSM aside accuracy:  0.475\n"
     ]
    }
   ],
   "source": [
    "# K nearest neighbors\n",
    "from sklearn.neighbors import KNeighborsClassifier\n",
    "\n",
    "neigh = KNeighborsClassifier(n_neighbors = 3)\n",
    "neigh.fit(x_train, np.argmax(labels_train,axis = 1))\n",
    "print('test accuracy: ',neigh.score(x_test,np.argmax(labels_test,axis = 1)))\n",
    "print('aside accuracy: ',neigh.score(x_aside,np.argmax(labels_aside,axis = 1)))\n",
    "print('FGSM aside accuracy: ',neigh.score(x_test_adv, np.argmax(labels_aside,axis = 1)))"
   ]
  },
  {
   "cell_type": "code",
   "execution_count": null,
   "metadata": {
    "colab": {
     "base_uri": "https://localhost:8080/"
    },
    "executionInfo": {
     "elapsed": 29989,
     "status": "ok",
     "timestamp": 1638413239257,
     "user": {
      "displayName": "Silence Ma",
      "photoUrl": "https://lh3.googleusercontent.com/a/default-user=s64",
      "userId": "01344304277965432029"
     },
     "user_tz": 480
    },
    "id": "BwG8qOabK3as",
    "outputId": "4ca00f1e-458a-4890-b065-50b23b327897"
   },
   "outputs": [
    {
     "name": "stdout",
     "output_type": "stream",
     "text": [
      "test accuracy:  0.48484848484848486\n",
      "aside accuracy:  0.525\n",
      "FGSM aside accuracy:  0.325\n"
     ]
    }
   ],
   "source": [
    "# Decision tree\n",
    "from sklearn import tree\n",
    "\n",
    "tr = tree.DecisionTreeClassifier()\n",
    "tr.fit(x_train, np.argmax(labels_train,axis = 1))\n",
    "print('test accuracy: ',tr.score(x_test,np.argmax(labels_test,axis = 1)))\n",
    "print('aside accuracy: ',tr.score(x_aside,np.argmax(labels_aside,axis = 1)))\n",
    "print('FGSM aside accuracy: ',tr.score(x_test_adv, np.argmax(labels_aside,axis = 1)))"
   ]
  },
  {
   "cell_type": "code",
   "execution_count": null,
   "metadata": {
    "colab": {
     "base_uri": "https://localhost:8080/"
    },
    "executionInfo": {
     "elapsed": 75310,
     "status": "ok",
     "timestamp": 1638413314558,
     "user": {
      "displayName": "Silence Ma",
      "photoUrl": "https://lh3.googleusercontent.com/a/default-user=s64",
      "userId": "01344304277965432029"
     },
     "user_tz": 480
    },
    "id": "qJc0A1DXLAGF",
    "outputId": "e1954e3e-4d69-4d1e-d7a9-76e8dbf73ddb"
   },
   "outputs": [
    {
     "name": "stdout",
     "output_type": "stream",
     "text": [
      "test accuracy:  0.6742424242424242\n",
      "aside accuracy:  0.6083333333333333\n",
      "FGSM aside accuracy:  0.45\n"
     ]
    }
   ],
   "source": [
    "# Support vector machine\n",
    "from sklearn import svm\n",
    "\n",
    "svm_1 = svm.SVC()\n",
    "svm_1.fit(x_train, np.argmax(labels_train,axis = 1))\n",
    "print('test accuracy: ',svm_1.score(x_test,np.argmax(labels_test,axis = 1)))\n",
    "print('aside accuracy: ',svm_1.score(x_aside,np.argmax(labels_aside,axis = 1)))\n",
    "print('FGSM aside accuracy: ',svm_1.score(x_test_adv, np.argmax(labels_aside,axis = 1)))"
   ]
  },
  {
   "cell_type": "code",
   "execution_count": null,
   "metadata": {
    "colab": {
     "base_uri": "https://localhost:8080/"
    },
    "executionInfo": {
     "elapsed": 981,
     "status": "ok",
     "timestamp": 1638413315533,
     "user": {
      "displayName": "Silence Ma",
      "photoUrl": "https://lh3.googleusercontent.com/a/default-user=s64",
      "userId": "01344304277965432029"
     },
     "user_tz": 480
    },
    "id": "JjMzuyPVMkKk",
    "outputId": "51e59da3-6591-4076-fb1f-efe209829581"
   },
   "outputs": [
    {
     "name": "stdout",
     "output_type": "stream",
     "text": [
      "test accuracy:  0.5757575757575758\n",
      "aside accuracy:  0.4666666666666667\n",
      "FGSM aside accuracy:  0.325\n"
     ]
    }
   ],
   "source": [
    "# Navie Bayers\n",
    "from sklearn.naive_bayes import BernoulliNB\n",
    "\n",
    "nb = BernoulliNB()\n",
    "nb.fit(x_train, np.argmax(labels_train,axis = 1))\n",
    "print('test accuracy: ',nb.score(x_test,np.argmax(labels_test,axis = 1)))\n",
    "print('aside accuracy: ',nb.score(x_aside,np.argmax(labels_aside,axis = 1)))\n",
    "print('FGSM aside accuracy: ',nb.score(x_test_adv, np.argmax(labels_aside,axis = 1)))"
   ]
  },
  {
   "cell_type": "code",
   "execution_count": null,
   "metadata": {
    "colab": {
     "base_uri": "https://localhost:8080/"
    },
    "executionInfo": {
     "elapsed": 471785,
     "status": "ok",
     "timestamp": 1638413787312,
     "user": {
      "displayName": "Silence Ma",
      "photoUrl": "https://lh3.googleusercontent.com/a/default-user=s64",
      "userId": "01344304277965432029"
     },
     "user_tz": 480
    },
    "id": "MOLoY9QUNSGX",
    "outputId": "a32e3792-d2a7-49de-84f8-335a7c6aede6"
   },
   "outputs": [
    {
     "name": "stdout",
     "output_type": "stream",
     "text": [
      "test accuracy:  0.6893939393939394\n",
      "aside accuracy:  0.6\n",
      "FGSM aside accuracy:  0.44166666666666665\n"
     ]
    }
   ],
   "source": [
    "# Bagging classifier\n",
    "from sklearn.svm import SVC\n",
    "from sklearn.ensemble import BaggingClassifier\n",
    "\n",
    "bag = BaggingClassifier(base_estimator=SVC(), n_estimators=10, random_state=0)\n",
    "bag.fit(x_train, np.argmax(labels_train,axis = 1))\n",
    "print('test accuracy: ',bag.score(x_test,np.argmax(labels_test,axis = 1)))\n",
    "print('aside accuracy: ',bag.score(x_aside,np.argmax(labels_aside,axis = 1)))\n",
    "print('FGSM aside accuracy: ',bag.score(x_test_adv, np.argmax(labels_aside,axis = 1)))"
   ]
  },
  {
   "cell_type": "code",
   "execution_count": null,
   "metadata": {
    "colab": {
     "base_uri": "https://localhost:8080/"
    },
    "executionInfo": {
     "elapsed": 1916,
     "status": "ok",
     "timestamp": 1638413789213,
     "user": {
      "displayName": "Silence Ma",
      "photoUrl": "https://lh3.googleusercontent.com/a/default-user=s64",
      "userId": "01344304277965432029"
     },
     "user_tz": 480
    },
    "id": "FYj6D6kHTaXh",
    "outputId": "4c8fcdb3-2022-4391-afc3-49950fecd9d8"
   },
   "outputs": [
    {
     "name": "stdout",
     "output_type": "stream",
     "text": [
      "test accuracy:  0.6515151515151515\n",
      "aside accuracy:  0.575\n",
      "FGSM aside accuracy:  0.5\n"
     ]
    }
   ],
   "source": [
    "# Random forest\n",
    "from sklearn.ensemble import RandomForestClassifier\n",
    "\n",
    "rf = RandomForestClassifier(max_depth=2, random_state=0)\n",
    "rf.fit(x_train, np.argmax(labels_train,axis = 1))\n",
    "print('test accuracy: ',rf.score(x_test,np.argmax(labels_test,axis = 1)))\n",
    "print('aside accuracy: ',rf.score(x_aside,np.argmax(labels_aside,axis = 1)))\n",
    "print('FGSM aside accuracy: ',rf.score(x_test_adv, np.argmax(labels_aside,axis = 1)))"
   ]
  },
  {
   "cell_type": "code",
   "execution_count": null,
   "metadata": {
    "colab": {
     "base_uri": "https://localhost:8080/"
    },
    "executionInfo": {
     "elapsed": 2912,
     "status": "ok",
     "timestamp": 1638413792116,
     "user": {
      "displayName": "Silence Ma",
      "photoUrl": "https://lh3.googleusercontent.com/a/default-user=s64",
      "userId": "01344304277965432029"
     },
     "user_tz": 480
    },
    "id": "m8g4e9DNNVql",
    "outputId": "d7bc4fbc-a115-40e7-b596-23a5bd896bd2"
   },
   "outputs": [
    {
     "name": "stdout",
     "output_type": "stream",
     "text": [
      "test accuracy:  0.7348484848484849\n",
      "aside accuracy:  0.6666666666666666\n",
      "FGSM aside accuracy:  0.5083333333333333\n"
     ]
    }
   ],
   "source": [
    "# Extra trees\n",
    "from sklearn.ensemble import ExtraTreesClassifier\n",
    "\n",
    "ec =  ExtraTreesClassifier(n_estimators=100, random_state=0)\n",
    "ec.fit(x_train, np.argmax(labels_train,axis = 1))\n",
    "print('test accuracy: ',ec.score(x_test,np.argmax(labels_test,axis = 1)))\n",
    "print('aside accuracy: ',ec.score(x_aside,np.argmax(labels_aside,axis = 1)))\n",
    "print('FGSM aside accuracy: ',ec.score(x_test_adv, np.argmax(labels_aside,axis = 1)))"
   ]
  },
  {
   "cell_type": "code",
   "execution_count": null,
   "metadata": {
    "colab": {
     "base_uri": "https://localhost:8080/"
    },
    "executionInfo": {
     "elapsed": 1288887,
     "status": "ok",
     "timestamp": 1638415080993,
     "user": {
      "displayName": "Silence Ma",
      "photoUrl": "https://lh3.googleusercontent.com/a/default-user=s64",
      "userId": "01344304277965432029"
     },
     "user_tz": 480
    },
    "id": "1uLUeKQxNkcX",
    "outputId": "b7151790-d421-430d-fc7c-d4b068058dab"
   },
   "outputs": [
    {
     "name": "stdout",
     "output_type": "stream",
     "text": [
      "test accuracy:  0.6287878787878788\n",
      "aside accuracy:  0.6166666666666667\n",
      "FGSM aside accuracy:  0.2833333333333333\n"
     ]
    }
   ],
   "source": [
    "# Gradient boosting\n",
    "from sklearn.ensemble import GradientBoostingClassifier\n",
    "\n",
    "gb = GradientBoostingClassifier(n_estimators=100, learning_rate=1.0, max_depth=1, random_state=0)\n",
    "gb.fit(x_train, np.argmax(labels_train,axis = 1))\n",
    "print('test accuracy: ',gb.score(x_test,np.argmax(labels_test,axis = 1)))\n",
    "print('aside accuracy: ',gb.score(x_aside,np.argmax(labels_aside,axis = 1)))\n",
    "print('FGSM aside accuracy: ',gb.score(x_test_adv, np.argmax(labels_aside,axis = 1)))"
   ]
  },
  {
   "cell_type": "code",
   "execution_count": null,
   "metadata": {
    "colab": {
     "base_uri": "https://localhost:8080/"
    },
    "executionInfo": {
     "elapsed": 13349,
     "status": "ok",
     "timestamp": 1638415094332,
     "user": {
      "displayName": "Silence Ma",
      "photoUrl": "https://lh3.googleusercontent.com/a/default-user=s64",
      "userId": "01344304277965432029"
     },
     "user_tz": 480
    },
    "id": "wGuEYUaRNxVd",
    "outputId": "0ded3491-bc9b-471c-9348-fb42ecb3691a"
   },
   "outputs": [
    {
     "name": "stdout",
     "output_type": "stream",
     "text": [
      "WARNING:tensorflow:From /usr/local/lib/python3.7/dist-packages/keras/layers/normalization/batch_normalization.py:532: _colocate_with (from tensorflow.python.framework.ops) is deprecated and will be removed in a future version.\n",
      "Instructions for updating:\n",
      "Colocations handled automatically by placer.\n"
     ]
    },
    {
     "name": "stderr",
     "output_type": "stream",
     "text": [
      "/usr/local/lib/python3.7/dist-packages/keras/engine/training_v1.py:2057: UserWarning: `Model.state_updates` will be removed in a future version. This property should not be used in TensorFlow 2.0, as `updates` are applied automatically.\n",
      "  updates = self.state_updates\n"
     ]
    },
    {
     "name": "stdout",
     "output_type": "stream",
     "text": [
      " resnet50 aside test loss, test acc: [4.0367363631725315, 0.45833334]\n"
     ]
    }
   ],
   "source": [
    "# load ResNet50 and build model\n",
    "model = keras.models.load_model(PROJECT_ROOT_DIR + 'BUSI_dataset_resnet50.h5')\n",
    "model.build((224,224,3))\n",
    "# SGD optimizer\n",
    "optimizer = keras.optimizers.SGD(learning_rate=LR)\n",
    "# compile the keras model\n",
    "model.compile(loss = 'categorical_crossentropy', optimizer = optimizer, metrics = ['accuracy'])\n",
    "# evaluate the keras model with aside images\n",
    "# reshape fattlen array to (224,224,3) image\n",
    "results = model.evaluate(x_test_adv.reshape(x_test_adv.shape[0],224,224,3), labels_aside)\n",
    "print(\" resnet50 aside test loss, test acc:\", results)"
   ]
  },
  {
   "cell_type": "code",
   "execution_count": null,
   "metadata": {
    "colab": {
     "base_uri": "https://localhost:8080/"
    },
    "executionInfo": {
     "elapsed": 15056,
     "status": "ok",
     "timestamp": 1638415425740,
     "user": {
      "displayName": "Silence Ma",
      "photoUrl": "https://lh3.googleusercontent.com/a/default-user=s64",
      "userId": "01344304277965432029"
     },
     "user_tz": 480
    },
    "id": "T92UI5rFcxJl",
    "outputId": "e58b699d-5de7-4321-bbe6-b85737ce2e97"
   },
   "outputs": [
    {
     "name": "stderr",
     "output_type": "stream",
     "text": [
      "/usr/local/lib/python3.7/dist-packages/keras/engine/training_v1.py:2057: UserWarning: `Model.state_updates` will be removed in a future version. This property should not be used in TensorFlow 2.0, as `updates` are applied automatically.\n",
      "  updates = self.state_updates\n"
     ]
    },
    {
     "name": "stdout",
     "output_type": "stream",
     "text": [
      "MobileNet aside test loss, test acc: [3.7516898229718207, 0.5833333]\n"
     ]
    }
   ],
   "source": [
    "# load MobileNet and build model\n",
    "SAVE_ROOT_DIR = 'drive/My Drive/CS504(AML)/Course Project/'\n",
    "model_MobileNet = keras.models.load_model(SAVE_ROOT_DIR + 'BUSI_dataset_MobileNet.h5')\n",
    "model_MobileNet.build((224,224,3))\n",
    "# Adam optimizer\n",
    "optimizer = keras.optimizers.Adam(learning_rate=0.0001)\n",
    "# compile the keras model\n",
    "model_MobileNet.compile(loss = 'categorical_crossentropy', optimizer = optimizer, metrics = ['accuracy'])\n",
    "# evaluate the keras model with aside images\n",
    "# reshape fattlen array to (224,224,3) image\n",
    "results = model_MobileNet.evaluate(x_test_adv.reshape(x_test_adv.shape[0],224,224,3), labels_aside)\n",
    "print(\"MobileNet aside test loss, test acc:\", results)"
   ]
  }
 ],
 "metadata": {
  "accelerator": "GPU",
  "colab": {
   "authorship_tag": "ABX9TyPuR78Glc08ffS2AwcZmtPU",
   "collapsed_sections": [],
   "name": "BUSI_LR_FGSM.ipynb",
   "provenance": [
    {
     "file_id": "14qDfnK23XnSSZZmHV3ZekMJm0OYRpK7v",
     "timestamp": 1638409159665
    }
   ]
  },
  "kernelspec": {
   "display_name": "Python 3",
   "language": "python",
   "name": "python3"
  },
  "language_info": {
   "codemirror_mode": {
    "name": "ipython",
    "version": 3
   },
   "file_extension": ".py",
   "mimetype": "text/x-python",
   "name": "python",
   "nbconvert_exporter": "python",
   "pygments_lexer": "ipython3",
   "version": "3.7.3"
  }
 },
 "nbformat": 4,
 "nbformat_minor": 1
}
