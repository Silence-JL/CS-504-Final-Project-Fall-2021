{
 "cells": [
  {
   "cell_type": "code",
   "execution_count": null,
   "metadata": {
    "colab": {
     "base_uri": "https://localhost:8080/"
    },
    "executionInfo": {
     "elapsed": 228,
     "status": "ok",
     "timestamp": 1638394739654,
     "user": {
      "displayName": "Silence Ma",
      "photoUrl": "https://lh3.googleusercontent.com/a/default-user=s64",
      "userId": "01344304277965432029"
     },
     "user_tz": 480
    },
    "id": "zeD4P8QM8dJO",
    "outputId": "07e95ba4-677b-4c89-f981-fce2ce2a1455"
   },
   "outputs": [
    {
     "name": "stdout",
     "output_type": "stream",
     "text": [
      "Drive already mounted at /content/drive; to attempt to forcibly remount, call drive.mount(\"/content/drive\", force_remount=True).\n"
     ]
    }
   ],
   "source": [
    "# mount google drive on your runtime using and authorization code.\n",
    "# more details here: https://colab.research.google.com/notebooks/io.ipynb\n",
    "from google.colab import drive\n",
    "drive.mount('/content/drive')"
   ]
  },
  {
   "cell_type": "code",
   "execution_count": null,
   "metadata": {
    "colab": {
     "base_uri": "https://localhost:8080/"
    },
    "executionInfo": {
     "elapsed": 2483,
     "status": "ok",
     "timestamp": 1638394742327,
     "user": {
      "displayName": "Silence Ma",
      "photoUrl": "https://lh3.googleusercontent.com/a/default-user=s64",
      "userId": "01344304277965432029"
     },
     "user_tz": 480
    },
    "id": "1uCE3qzElzGx",
    "outputId": "e2a7008b-db8b-438e-8086-8750d30c5cc1"
   },
   "outputs": [
    {
     "name": "stdout",
     "output_type": "stream",
     "text": [
      "Requirement already satisfied: adversarial-robustness-toolbox in /usr/local/lib/python3.7/dist-packages (1.8.1)\n",
      "Requirement already satisfied: numba>=0.53.1 in /usr/local/lib/python3.7/dist-packages (from adversarial-robustness-toolbox) (0.54.1)\n",
      "Requirement already satisfied: scikit-learn<1.1.0,>=0.22.2 in /usr/local/lib/python3.7/dist-packages (from adversarial-robustness-toolbox) (1.0.1)\n",
      "Requirement already satisfied: six in /usr/local/lib/python3.7/dist-packages (from adversarial-robustness-toolbox) (1.15.0)\n",
      "Requirement already satisfied: tqdm in /usr/local/lib/python3.7/dist-packages (from adversarial-robustness-toolbox) (4.62.3)\n",
      "Requirement already satisfied: setuptools in /usr/local/lib/python3.7/dist-packages (from adversarial-robustness-toolbox) (57.4.0)\n",
      "Requirement already satisfied: scipy>=1.4.1 in /usr/local/lib/python3.7/dist-packages (from adversarial-robustness-toolbox) (1.4.1)\n",
      "Requirement already satisfied: numpy>=1.18.0 in /usr/local/lib/python3.7/dist-packages (from adversarial-robustness-toolbox) (1.19.5)\n",
      "Requirement already satisfied: llvmlite<0.38,>=0.37.0rc1 in /usr/local/lib/python3.7/dist-packages (from numba>=0.53.1->adversarial-robustness-toolbox) (0.37.0)\n",
      "Requirement already satisfied: threadpoolctl>=2.0.0 in /usr/local/lib/python3.7/dist-packages (from scikit-learn<1.1.0,>=0.22.2->adversarial-robustness-toolbox) (3.0.0)\n",
      "Requirement already satisfied: joblib>=0.11 in /usr/local/lib/python3.7/dist-packages (from scikit-learn<1.1.0,>=0.22.2->adversarial-robustness-toolbox) (1.1.0)\n"
     ]
    }
   ],
   "source": [
    "# install adversarial robustness toolbox for attacking (NEED TO RESTART RUNTIME AT FIRST TIME)\n",
    "!pip install adversarial-robustness-toolbox"
   ]
  },
  {
   "cell_type": "code",
   "execution_count": null,
   "metadata": {
    "colab": {
     "base_uri": "https://localhost:8080/"
    },
    "executionInfo": {
     "elapsed": 3409,
     "status": "ok",
     "timestamp": 1638394745716,
     "user": {
      "displayName": "Silence Ma",
      "photoUrl": "https://lh3.googleusercontent.com/a/default-user=s64",
      "userId": "01344304277965432029"
     },
     "user_tz": 480
    },
    "id": "dOC-SEl9_Tqg",
    "outputId": "cd311372-6052-4c6e-89f8-b4a2be644303"
   },
   "outputs": [
    {
     "name": "stdout",
     "output_type": "stream",
     "text": [
      "GPUs Available:  [PhysicalDevice(name='/physical_device:GPU:0', device_type='GPU')]\n",
      "Device mapping:\n",
      "/job:localhost/replica:0/task:0/device:GPU:0 -> device: 0, name: Tesla P100-PCIE-16GB, pci bus id: 0000:00:04.0, compute capability: 6.0\n",
      "\n"
     ]
    }
   ],
   "source": [
    "# import library\n",
    "import numpy as np\n",
    "import pandas as pd\n",
    "import random\n",
    "\n",
    "import tensorflow as tf\n",
    "from tensorflow import keras\n",
    "from keras.models import Model\n",
    "from tensorflow.keras.utils import to_categorical\n",
    "import matplotlib.pyplot as plt\n",
    "%matplotlib inline\n",
    "import pickle\n",
    "import os\n",
    "import cv2\n",
    "from google.colab.patches import cv2_imshow\n",
    "from imutils import paths\n",
    "from sklearn.model_selection import train_test_split\n",
    "from sklearn import preprocessing\n",
    "\n",
    "from art.estimators.classification import KerasClassifier\n",
    "from art.attacks.evasion import FastGradientMethod,ProjectedGradientDescent,DeepFool,BoundaryAttack\n",
    "\n",
    "# check GPU is available\n",
    "print(\"GPUs Available: \", tf.config.list_physical_devices('GPU'))\n",
    "\n",
    "# set random seed of tensorflow\n",
    "random.seed(1)\n",
    "np.random.seed(1)\n",
    "tf.compat.v1.set_random_seed(1)\n",
    "tf.random.set_seed(1)\n",
    "config = tf.compat.v1.ConfigProto(intra_op_parallelism_threads=1, inter_op_parallelism_threads=1,log_device_placement =True)\n",
    "config.gpu_options.allow_growth = True\n",
    "sess = tf.compat.v1.Session(graph = tf.compat.v1.get_default_graph(), config = config)\n",
    "tf.compat.v1.keras.backend.set_session(sess)\n",
    "tf.compat.v1.disable_eager_execution()"
   ]
  },
  {
   "cell_type": "code",
   "execution_count": null,
   "metadata": {
    "id": "ehwA9Thy_T-r"
   },
   "outputs": [],
   "source": [
    "# Path to the directory containing the project files (CHANGE THIS PATH TO THE DIRECTORY ON YOUR COMPUTER OR GOOGLE DRIVE)\n",
    "PROJECT_ROOT_DIR = 'drive/My Drive/CS504(AML)/HW1/BUSI/'\n",
    "\n",
    "# Path to the directory containing the dataset (DOWNLOAD THE BUSI_DATASET DIRECTORY FROM FOLLOWING LINK)\n",
    "# DOWNLOAD BUSI dataset here: https://scholar.cu.edu.eg/?q=afahmy/pages/dataset\n",
    "DATA_DIR = 'Dataset_BUSI_with_GT/'"
   ]
  },
  {
   "cell_type": "markdown",
   "metadata": {
    "id": "O3ZttfbFdAA1"
   },
   "source": [
    "# Load the BUSI images and labels"
   ]
  },
  {
   "cell_type": "code",
   "execution_count": null,
   "metadata": {
    "cellView": "code",
    "id": "LTxT38-8_k7v"
   },
   "outputs": [],
   "source": [
    "# Funciton for loading the dataset\n",
    "# reference: https://www.pyimagesearch.com/2018/09/10/keras-tutorial-how-to-get-started-with-keras-deep-learning-and-python/\n",
    "def load_image():\n",
    "  # initialize the data and labels for each class\n",
    "  data = []\n",
    "  labels = []\n",
    "\n",
    "  data_aside = []\n",
    "  labels_aside = []\n",
    "\n",
    "  benign_data = []\n",
    "  benign_labels = []\n",
    "\n",
    "  malignant_data = []\n",
    "  malignant_labels = []\n",
    "\n",
    "  normal_data = []\n",
    "  normal_labels = []\n",
    "\n",
    "  # load benign image\n",
    "  for i in range(1,438):\n",
    "    image = cv2.imread(PROJECT_ROOT_DIR + DATA_DIR + 'benign/' + 'benign (' + str(i) + ').png')\n",
    "    # resize image to 224 * 224 * 3\n",
    "    image = cv2.resize(image, (224, 224))\n",
    "    benign_data.append(image)\n",
    "    # extract the class label from the image folder\n",
    "    benign_labels.append('benign')\n",
    "  # random Select 120 images and set them aside as Adversarial Attack images. These include 60 benign images, 30 malignant images, and 30 normal images\n",
    "  # select 60 benign images\n",
    "  random.seed(1)\n",
    "  random_sample = random.sample(range(len(benign_data)),60)\n",
    "  for i in range(0,437):\n",
    "    if i in random_sample:\n",
    "      data_aside.append(benign_data[i])\n",
    "      labels_aside.append(benign_labels[i])\n",
    "    else:\n",
    "      data.append(benign_data[i])\n",
    "      labels.append(benign_labels[i])\n",
    "\n",
    "  # load malignant image\n",
    "  for i in range(1,211):\n",
    "    image = cv2.imread(PROJECT_ROOT_DIR + DATA_DIR + 'malignant/' + 'malignant (' + str(i) + ').png')\n",
    "    # resize image to 224 * 224 * 3\n",
    "    image = cv2.resize(image, (224, 224))\n",
    "    malignant_data.append(image)\n",
    "    # extract the class label from the image folder\n",
    "    malignant_labels.append('malignant')\n",
    "  # select 30 malignant images\n",
    "  random.seed(1)\n",
    "  random_sample = random.sample(range(len(malignant_data)),30)\n",
    "  #print(random_sample)\n",
    "  for i in range(0,210):\n",
    "    if i in random_sample:\n",
    "      data_aside.append(malignant_data[i])\n",
    "      labels_aside.append(malignant_labels[i])\n",
    "    else:\n",
    "      data.append(malignant_data[i])\n",
    "      labels.append(malignant_labels[i])\n",
    "  \n",
    "  # load normal image\n",
    "  for i in range(1,134):\n",
    "    image = cv2.imread(PROJECT_ROOT_DIR + DATA_DIR + 'normal/' + 'normal (' + str(i) + ').png')\n",
    "    # resize image to 224 * 224 * 3\n",
    "    image = cv2.resize(image, (224, 224))\n",
    "    normal_data.append(image)\n",
    "    # extract the class label from the image folder\n",
    "    normal_labels.append('normal')\n",
    "  # select 30 normal images\n",
    "  random.seed(1)\n",
    "  random_sample = random.sample(range(len(normal_data)),30)\n",
    "  for i in range(0,133):\n",
    "    if i in random_sample:\n",
    "      data_aside.append(normal_data[i])\n",
    "      labels_aside.append(normal_labels[i])\n",
    "    else:\n",
    "      data.append(normal_data[i])\n",
    "      labels.append(normal_labels[i])  \n",
    "\n",
    "  return data, labels, data_aside, labels_aside\n",
    "# Function for image preprocessing \n",
    "def preprocess(data,labels,data_aside, labels_aside):\n",
    "  # Save training and test image to numpy, Scale image features to be in [0, 1]\n",
    "  data = np.array(data, dtype = np.float32) / 255.0\n",
    "  # Save labels to numpy encode label to integer catergory 0 = 'benign', 1 = 'malignant', 2 = 'normal'\n",
    "  labels = np.array(labels)\n",
    "  new_label_encoder = preprocessing.LabelEncoder()\n",
    "  new_label_encoder.fit(labels)\n",
    "  targets = new_label_encoder.transform(labels)\n",
    "  # Save aside image to numpy, Scale image features to be in [0, 1]\n",
    "  data_aside = np.array(data_aside, dtype = np.float32) / 255.0\n",
    "  # Save labels to numpy encode label to integer catergory 0 = 'benign', 1 = 'malignant', 2 = 'normal' \n",
    "  labels_aside = np.array(labels_aside)\n",
    "  new_labels_aside_encoder = preprocessing.LabelEncoder()\n",
    "  new_labels_aside_encoder.fit(labels_aside)\n",
    "  targets2 = new_label_encoder.transform(labels_aside)\n",
    "  return data, targets, data_aside, targets2"
   ]
  },
  {
   "cell_type": "code",
   "execution_count": null,
   "metadata": {
    "id": "sfx8YFwEUggO"
   },
   "outputs": [],
   "source": [
    "# Load the images and labels\n",
    "data, labels, data_aside, labels_aside = load_image()\n",
    "data, labels, data_aside, labels_aside = preprocess(data,labels,data_aside, labels_aside)\n",
    "\n",
    "# split data into 80% train and 20% test, shuffle the data with\n",
    "(imgs_train, imgs_test, labels_train, labels_test) = train_test_split(data, labels, test_size = 0.2, random_state=42, shuffle = True)\n",
    "# split data into 60% train data and 20% validation data\n",
    "(imgs_train, imgs_val, labels_train, labels_val) = train_test_split(imgs_train, labels_train, test_size = 0.2, random_state=42, shuffle = True)"
   ]
  },
  {
   "cell_type": "code",
   "execution_count": null,
   "metadata": {
    "colab": {
     "base_uri": "https://localhost:8080/"
    },
    "executionInfo": {
     "elapsed": 55,
     "status": "ok",
     "timestamp": 1638394753198,
     "user": {
      "displayName": "Silence Ma",
      "photoUrl": "https://lh3.googleusercontent.com/a/default-user=s64",
      "userId": "01344304277965432029"
     },
     "user_tz": 480
    },
    "id": "YFX8ENErVXih",
    "outputId": "227902b7-54d8-4775-c4c5-78dc2d9b7ec0"
   },
   "outputs": [
    {
     "name": "stdout",
     "output_type": "stream",
     "text": [
      "Images train shape: (422, 224, 224, 3) - Labels train shape: (422,)\n",
      "Images validation shape: (106, 224, 224, 3) - Labels validation shape: (106,)\n",
      "Images test shape: (132, 224, 224, 3) - Labels test shape: (132,)\n",
      "Aside images shape: (120, 224, 224, 3) - Aside Labels shape: (120,)\n",
      "\n",
      "Max pixel value 1.0\n",
      "Min pixel value 0.0\n",
      "Average pixel value 0.32330388\n",
      "Data type float32\n"
     ]
    }
   ],
   "source": [
    "# Display the shapes of train, validation, and test datasets\n",
    "print('Images train shape: {} - Labels train shape: {}'.format(imgs_train.shape, labels_train.shape))\n",
    "print('Images validation shape: {} - Labels validation shape: {}'.format(imgs_val.shape, labels_val.shape))\n",
    "print('Images test shape: {} - Labels test shape: {}'.format(imgs_test.shape, labels_test.shape))\n",
    "print('Aside images shape: {} - Aside Labels shape: {}'.format(data_aside.shape, labels_aside.shape))\n",
    "# Display the range of images (to make sure they are in the [0, 1] range)\n",
    "print('\\nMax pixel value', np.max(imgs_train))\n",
    "print('Min pixel value', np.min(imgs_train))\n",
    "print('Average pixel value', np.mean(imgs_train))\n",
    "print('Data type', imgs_train[0].dtype)"
   ]
  },
  {
   "cell_type": "code",
   "execution_count": null,
   "metadata": {
    "id": "FaCAEmH8X3pP"
   },
   "outputs": [],
   "source": [
    "# Set constants (BUSI)\n",
    "NUM_LABELS = 3                             # Number of labels\n",
    "BATCH_SIZE = 4                             # Size of batch\n",
    "HEIGHT = 224                                 # Height of input image\n",
    "WIDTH = 224                                  # Width of input image\n",
    "N_CHANNEL = 3                               # Number of channels\n",
    "OUTPUT_DIM = 3                             # Number of output dimension\n",
    "\n",
    "# Set training hyperparameters\n",
    "NUM_EPOCH = 100                             # Number of epoch to train\n",
    "LR = 0.01                                 # Learning rate\n",
    "\n",
    "INPUT_SHAPE = (HEIGHT, WIDTH, N_CHANNEL)  # Input shape of model\n",
    "IMG_SHAPE = (HEIGHT, WIDTH, N_CHANNEL)"
   ]
  },
  {
   "cell_type": "code",
   "execution_count": null,
   "metadata": {
    "colab": {
     "base_uri": "https://localhost:8080/"
    },
    "executionInfo": {
     "elapsed": 49,
     "status": "ok",
     "timestamp": 1638394753203,
     "user": {
      "displayName": "Silence Ma",
      "photoUrl": "https://lh3.googleusercontent.com/a/default-user=s64",
      "userId": "01344304277965432029"
     },
     "user_tz": 480
    },
    "id": "_8AzkPCGX-0g",
    "outputId": "f9a9763b-2d70-40be-899d-1784235b0436"
   },
   "outputs": [
    {
     "name": "stdout",
     "output_type": "stream",
     "text": [
      "Labels train shape: (422, 3)\n"
     ]
    }
   ],
   "source": [
    "# Convert the labels to one-hot encoding (to input to the models)\n",
    "labels_train = keras.utils.to_categorical(labels_train, NUM_LABELS)\n",
    "labels_test = keras.utils.to_categorical(labels_test, NUM_LABELS)\n",
    "labels_val = keras.utils.to_categorical(labels_val, NUM_LABELS)\n",
    "labels_aside = keras.utils.to_categorical(labels_aside, NUM_LABELS)\n",
    "print('Labels train shape: {}'.format(labels_train.shape))"
   ]
  },
  {
   "cell_type": "markdown",
   "metadata": {
    "id": "uu0BOVlgZdzy"
   },
   "source": [
    "# Load ResNet50 model"
   ]
  },
  {
   "cell_type": "code",
   "execution_count": null,
   "metadata": {
    "id": "WvS8-ymJbLfu"
   },
   "outputs": [],
   "source": [
    "# load ResNet50 and build model\n",
    "model = keras.models.load_model(PROJECT_ROOT_DIR + 'BUSI_dataset_resnet50.h5')\n",
    "model.build((224,224,3))\n",
    "# SGD optimizer\n",
    "optimizer = keras.optimizers.SGD(learning_rate=LR)\n",
    "# compile the keras model\n",
    "model.compile(loss = 'categorical_crossentropy', optimizer = optimizer, metrics = ['accuracy'])"
   ]
  },
  {
   "cell_type": "code",
   "execution_count": null,
   "metadata": {
    "colab": {
     "base_uri": "https://localhost:8080/"
    },
    "executionInfo": {
     "elapsed": 3085,
     "status": "ok",
     "timestamp": 1638394763711,
     "user": {
      "displayName": "Silence Ma",
      "photoUrl": "https://lh3.googleusercontent.com/a/default-user=s64",
      "userId": "01344304277965432029"
     },
     "user_tz": 480
    },
    "id": "j5rV6kb16-zW",
    "outputId": "95b31f8d-a1f8-47c0-f689-5b2d3be01440"
   },
   "outputs": [
    {
     "name": "stderr",
     "output_type": "stream",
     "text": [
      "/usr/local/lib/python3.7/dist-packages/keras/engine/training_v1.py:2057: UserWarning: `Model.state_updates` will be removed in a future version. This property should not be used in TensorFlow 2.0, as `updates` are applied automatically.\n",
      "  updates = self.state_updates\n"
     ]
    },
    {
     "name": "stdout",
     "output_type": "stream",
     "text": [
      "orignial resnet50 aside test loss, test acc: [0.9014062566061815, 0.85]\n"
     ]
    }
   ],
   "source": [
    "# evaluate the keras model with aside images\n",
    "results = model.evaluate(data_aside, labels_aside)\n",
    "print(\"orignial resnet50 aside test loss, test acc:\", results)"
   ]
  },
  {
   "cell_type": "markdown",
   "metadata": {
    "id": "P0lpyVOQZu-j"
   },
   "source": [
    "# Create and apply Boundary Attack with ART onResNet 50 (using 120 aside images)"
   ]
  },
  {
   "cell_type": "code",
   "execution_count": null,
   "metadata": {
    "id": "gCSuyJeHl89l"
   },
   "outputs": [],
   "source": [
    "# Create a ART Keras classifier for the TensorFlow Keras model.\n",
    "classifier = KerasClassifier(model = model,clip_values=(0, 1), use_logits=False)"
   ]
  },
  {
   "cell_type": "code",
   "execution_count": null,
   "metadata": {
    "colab": {
     "base_uri": "https://localhost:8080/"
    },
    "executionInfo": {
     "elapsed": 1179658,
     "status": "ok",
     "timestamp": 1638395947996,
     "user": {
      "displayName": "Silence Ma",
      "photoUrl": "https://lh3.googleusercontent.com/a/default-user=s64",
      "userId": "01344304277965432029"
     },
     "user_tz": 480
    },
    "id": "YABmqew9mmD5",
    "outputId": "96c357ff-a88d-4d66-d5a7-269c24db3e76"
   },
   "outputs": [
    {
     "name": "stderr",
     "output_type": "stream",
     "text": [
      "/usr/local/lib/python3.7/dist-packages/keras/engine/training_v1.py:2079: UserWarning: `Model.state_updates` will be removed in a future version. This property should not be used in TensorFlow 2.0, as `updates` are applied automatically.\n",
      "  updates=self.state_updates,\n"
     ]
    },
    {
     "name": "stdout",
     "output_type": "stream",
     "text": [
      "Accuracy on adversarial test data: 24.17%\n",
      "Average perturbation: 0.06\n"
     ]
    }
   ],
   "source": [
    "# Create a ART Boundary attack.\n",
    "attack_ba = BoundaryAttack(estimator = classifier, targeted = False, delta = 0.3, epsilon = 0.3, max_iter = 50, verbose = False)\n",
    "# Generate adversarial test data.\n",
    "x_test_adv = attack_ba.generate(data_aside)\n",
    "# Evaluate accuracy on adversarial test data and calculate average perturbation.\n",
    "loss_test, accuracy_test = model.evaluate(x_test_adv, labels_aside)\n",
    "perturbation = np.mean(np.abs((x_test_adv - data_aside)))\n",
    "print('Accuracy on adversarial test data: {:4.2f}%'.format(accuracy_test * 100))\n",
    "print('Average perturbation: {:4.2f}'.format(perturbation))"
   ]
  },
  {
   "cell_type": "markdown",
   "metadata": {
    "id": "muq_N-PAZjfR"
   },
   "source": [
    "# Implement adversarial aside examples to ML models"
   ]
  },
  {
   "cell_type": "code",
   "execution_count": null,
   "metadata": {
    "id": "9i91DMcqYROU"
   },
   "outputs": [],
   "source": [
    "# copy all images into a new variable\n",
    "x_train = imgs_train.copy()\n",
    "# flatten image features in train, test, aside and adversarial aside images\n",
    "x_train = x_train.reshape(x_train.shape[0],224*224*3)\n",
    "\n",
    "x_test = imgs_test.copy()\n",
    "x_test = x_test.reshape(x_test.shape[0],224*224*3)\n",
    "\n",
    "x_aside = data_aside.copy()\n",
    "x_aside = x_aside.reshape(x_aside.shape[0],224*224*3)\n",
    "\n",
    "x_ba = x_test_adv.copy()\n",
    "x_ba = x_ba.reshape(x_ba.shape[0],224*224*3)"
   ]
  },
  {
   "cell_type": "code",
   "execution_count": null,
   "metadata": {
    "colab": {
     "base_uri": "https://localhost:8080/"
    },
    "executionInfo": {
     "elapsed": 5244,
     "status": "ok",
     "timestamp": 1638396004980,
     "user": {
      "displayName": "Silence Ma",
      "photoUrl": "https://lh3.googleusercontent.com/a/default-user=s64",
      "userId": "01344304277965432029"
     },
     "user_tz": 480
    },
    "id": "63SYjMWvlZ1u",
    "outputId": "7d7efdb4-1cc5-421f-a956-bc102cea9c31"
   },
   "outputs": [
    {
     "name": "stdout",
     "output_type": "stream",
     "text": [
      "test accuracy:  0.5606060606060606\n",
      "aside accuracy:  0.5416666666666666\n",
      "Boundary attack aside accuracy:  0.5083333333333333\n"
     ]
    }
   ],
   "source": [
    "# K nearest neighbors\n",
    "from sklearn.neighbors import KNeighborsClassifier\n",
    "\n",
    "neigh = KNeighborsClassifier(n_neighbors = 3)\n",
    "neigh.fit(x_train, np.argmax(labels_train,axis = 1))\n",
    "\n",
    "print('test accuracy: ',neigh.score(x_test,np.argmax(labels_test,axis = 1)))\n",
    "print('aside accuracy: ',neigh.score(x_aside,np.argmax(labels_aside,axis = 1)))\n",
    "print('Boundary attack aside accuracy: ',neigh.score(x_ba, np.argmax(labels_aside,axis = 1)))"
   ]
  },
  {
   "cell_type": "code",
   "execution_count": null,
   "metadata": {
    "colab": {
     "base_uri": "https://localhost:8080/"
    },
    "executionInfo": {
     "elapsed": 31714,
     "status": "ok",
     "timestamp": 1638396036667,
     "user": {
      "displayName": "Silence Ma",
      "photoUrl": "https://lh3.googleusercontent.com/a/default-user=s64",
      "userId": "01344304277965432029"
     },
     "user_tz": 480
    },
    "id": "I4_6x4GJlCjn",
    "outputId": "23103fb8-ef48-42dc-d472-c2d977f8fe85"
   },
   "outputs": [
    {
     "name": "stdout",
     "output_type": "stream",
     "text": [
      "test accuracy:  0.49242424242424243\n",
      "aside accuracy:  0.5333333333333333\n",
      "Boundary attack aside accuracy:  0.48333333333333334\n"
     ]
    }
   ],
   "source": [
    "# Decision tree\n",
    "from sklearn import tree\n",
    "\n",
    "tr = tree.DecisionTreeClassifier()\n",
    "tr.fit(x_train, np.argmax(labels_train,axis = 1))\n",
    "print('test accuracy: ',tr.score(x_test,np.argmax(labels_test,axis = 1)))\n",
    "print('aside accuracy: ',tr.score(x_aside,np.argmax(labels_aside,axis = 1)))\n",
    "print('Boundary attack aside accuracy: ',tr.score(x_ba, np.argmax(labels_aside,axis = 1)))"
   ]
  },
  {
   "cell_type": "code",
   "execution_count": null,
   "metadata": {
    "colab": {
     "base_uri": "https://localhost:8080/"
    },
    "executionInfo": {
     "elapsed": 159318,
     "status": "ok",
     "timestamp": 1638396195979,
     "user": {
      "displayName": "Silence Ma",
      "photoUrl": "https://lh3.googleusercontent.com/a/default-user=s64",
      "userId": "01344304277965432029"
     },
     "user_tz": 480
    },
    "id": "Ud2qahE2udvU",
    "outputId": "0809e58a-efab-4c07-de1a-b63878349b65"
   },
   "outputs": [
    {
     "name": "stdout",
     "output_type": "stream",
     "text": [
      "test accuracy:  0.6439393939393939\n",
      "aside accuracy:  0.6166666666666667\n",
      "Boundary attack aside accuracy:  0.625\n"
     ]
    }
   ],
   "source": [
    "# Logistic Regression\n",
    "from sklearn.linear_model import LogisticRegression\n",
    "\n",
    "lr = LogisticRegression(penalty='l2', dual=False, tol=0.0001, C=1.0, fit_intercept=True, intercept_scaling=1, \n",
    "                           class_weight='balanced', random_state=0, solver='newton-cg', max_iter=100, \n",
    "                           multi_class='auto', verbose=0, warm_start=False, n_jobs=None)\n",
    "lr.fit(x_train, np.argmax(labels_train,axis = 1))\n",
    "print('test accuracy: ',lr.score(x_test,np.argmax(labels_test,axis = 1)))\n",
    "print('aside accuracy: ',lr.score(x_aside,np.argmax(labels_aside,axis = 1)))\n",
    "print('Boundary attack aside accuracy: ',lr.score(x_ba, np.argmax(labels_aside,axis = 1)))"
   ]
  },
  {
   "cell_type": "code",
   "execution_count": null,
   "metadata": {
    "colab": {
     "base_uri": "https://localhost:8080/"
    },
    "executionInfo": {
     "elapsed": 61202,
     "status": "ok",
     "timestamp": 1638396257164,
     "user": {
      "displayName": "Silence Ma",
      "photoUrl": "https://lh3.googleusercontent.com/a/default-user=s64",
      "userId": "01344304277965432029"
     },
     "user_tz": 480
    },
    "id": "cVGEDlvNu8Ri",
    "outputId": "119a0d19-d183-4739-cc8b-033f3d33abe5"
   },
   "outputs": [
    {
     "name": "stdout",
     "output_type": "stream",
     "text": [
      "test accuracy:  0.6742424242424242\n",
      "aside accuracy:  0.6083333333333333\n",
      "Boundary attack aside accuracy:  0.6083333333333333\n"
     ]
    }
   ],
   "source": [
    "# Support vector machine\n",
    "from sklearn import svm\n",
    "\n",
    "svm_1 = svm.SVC()\n",
    "svm_1.fit(x_train, np.argmax(labels_train,axis = 1))\n",
    "print('test accuracy: ',svm_1.score(x_test,np.argmax(labels_test,axis = 1)))\n",
    "print('aside accuracy: ',svm_1.score(x_aside,np.argmax(labels_aside,axis = 1)))\n",
    "print('Boundary attack aside accuracy: ',svm_1.score(x_ba, np.argmax(labels_aside,axis = 1)))"
   ]
  },
  {
   "cell_type": "code",
   "execution_count": null,
   "metadata": {
    "colab": {
     "base_uri": "https://localhost:8080/"
    },
    "executionInfo": {
     "elapsed": 932,
     "status": "ok",
     "timestamp": 1638396258084,
     "user": {
      "displayName": "Silence Ma",
      "photoUrl": "https://lh3.googleusercontent.com/a/default-user=s64",
      "userId": "01344304277965432029"
     },
     "user_tz": 480
    },
    "id": "L3evximEvdhz",
    "outputId": "e153b68a-e6dd-4fa0-ae74-f58f87439b30"
   },
   "outputs": [
    {
     "name": "stdout",
     "output_type": "stream",
     "text": [
      "test accuracy:  0.5757575757575758\n",
      "aside accuracy:  0.4666666666666667\n",
      "Boundary attack aside accuracy:  0.5\n"
     ]
    }
   ],
   "source": [
    "# Navie Bayers\n",
    "from sklearn.naive_bayes import BernoulliNB\n",
    "\n",
    "nb = BernoulliNB()\n",
    "nb.fit(x_train, np.argmax(labels_train,axis = 1))\n",
    "print('test accuracy: ',nb.score(x_test,np.argmax(labels_test,axis = 1)))\n",
    "print('aside accuracy: ',nb.score(x_aside,np.argmax(labels_aside,axis = 1)))\n",
    "print('Boundary attack aside accuracy: ',nb.score(x_ba, np.argmax(labels_aside,axis = 1)))"
   ]
  },
  {
   "cell_type": "code",
   "execution_count": null,
   "metadata": {
    "colab": {
     "base_uri": "https://localhost:8080/"
    },
    "executionInfo": {
     "elapsed": 403263,
     "status": "ok",
     "timestamp": 1638396661339,
     "user": {
      "displayName": "Silence Ma",
      "photoUrl": "https://lh3.googleusercontent.com/a/default-user=s64",
      "userId": "01344304277965432029"
     },
     "user_tz": 480
    },
    "id": "7oXTG9zmwVrz",
    "outputId": "2ea1a161-e0af-4ad4-c4a7-45b2e9b459b8"
   },
   "outputs": [
    {
     "name": "stdout",
     "output_type": "stream",
     "text": [
      "test accuracy:  0.6893939393939394\n",
      "aside accuracy:  0.6\n",
      "Boundary attack aside accuracy:  0.5916666666666667\n"
     ]
    }
   ],
   "source": [
    "# Bagging classifier\n",
    "from sklearn.svm import SVC\n",
    "from sklearn.ensemble import BaggingClassifier\n",
    "\n",
    "bag = BaggingClassifier(base_estimator=SVC(), n_estimators=10, random_state=0)\n",
    "bag.fit(x_train, np.argmax(labels_train,axis = 1))\n",
    "print('test accuracy: ',bag.score(x_test,np.argmax(labels_test,axis = 1)))\n",
    "print('aside accuracy: ',bag.score(x_aside,np.argmax(labels_aside,axis = 1)))\n",
    "print('Boundary attack aside accuracy: ',bag.score(x_ba, np.argmax(labels_aside,axis = 1)))"
   ]
  },
  {
   "cell_type": "code",
   "execution_count": null,
   "metadata": {
    "colab": {
     "base_uri": "https://localhost:8080/"
    },
    "executionInfo": {
     "elapsed": 1909,
     "status": "ok",
     "timestamp": 1638396663222,
     "user": {
      "displayName": "Silence Ma",
      "photoUrl": "https://lh3.googleusercontent.com/a/default-user=s64",
      "userId": "01344304277965432029"
     },
     "user_tz": 480
    },
    "id": "_-UdhoBhwv8_",
    "outputId": "c45765a1-feab-4e60-b139-cc0fd13e58c9"
   },
   "outputs": [
    {
     "name": "stdout",
     "output_type": "stream",
     "text": [
      "test accuracy:  0.6515151515151515\n",
      "aside accuracy:  0.575\n",
      "Boundary attack aside accuracy:  0.5916666666666667\n"
     ]
    }
   ],
   "source": [
    "# Random forest\n",
    "from sklearn.ensemble import RandomForestClassifier\n",
    "\n",
    "rf = RandomForestClassifier(max_depth=2, random_state=0)\n",
    "rf.fit(x_train, np.argmax(labels_train,axis = 1))\n",
    "print('test accuracy: ',rf.score(x_test,np.argmax(labels_test,axis = 1)))\n",
    "print('aside accuracy: ',rf.score(x_aside,np.argmax(labels_aside,axis = 1)))\n",
    "print('Boundary attack aside accuracy: ',rf.score(x_ba, np.argmax(labels_aside,axis = 1)))"
   ]
  },
  {
   "cell_type": "code",
   "execution_count": null,
   "metadata": {
    "colab": {
     "base_uri": "https://localhost:8080/"
    },
    "executionInfo": {
     "elapsed": 2917,
     "status": "ok",
     "timestamp": 1638396666131,
     "user": {
      "displayName": "Silence Ma",
      "photoUrl": "https://lh3.googleusercontent.com/a/default-user=s64",
      "userId": "01344304277965432029"
     },
     "user_tz": 480
    },
    "id": "GYRBEv13xAMs",
    "outputId": "34b8214e-5d9f-49b4-bd2b-886b51d2c47c"
   },
   "outputs": [
    {
     "name": "stdout",
     "output_type": "stream",
     "text": [
      "test accuracy:  0.7348484848484849\n",
      "aside accuracy:  0.6666666666666666\n",
      "Boundary attack aside accuracy:  0.625\n"
     ]
    }
   ],
   "source": [
    "# Extra trees\n",
    "from sklearn.ensemble import ExtraTreesClassifier\n",
    "\n",
    "ec =  ExtraTreesClassifier(n_estimators=100, random_state=0)\n",
    "ec.fit(x_train, np.argmax(labels_train,axis = 1))\n",
    "print('test accuracy: ',ec.score(x_test,np.argmax(labels_test,axis = 1)))\n",
    "print('aside accuracy: ',ec.score(x_aside,np.argmax(labels_aside,axis = 1)))\n",
    "print('Boundary attack aside accuracy: ',ec.score(x_ba, np.argmax(labels_aside,axis = 1)))"
   ]
  },
  {
   "cell_type": "code",
   "execution_count": null,
   "metadata": {
    "colab": {
     "base_uri": "https://localhost:8080/"
    },
    "executionInfo": {
     "elapsed": 1301092,
     "status": "ok",
     "timestamp": 1638397967211,
     "user": {
      "displayName": "Silence Ma",
      "photoUrl": "https://lh3.googleusercontent.com/a/default-user=s64",
      "userId": "01344304277965432029"
     },
     "user_tz": 480
    },
    "id": "7R3SnIGoxJrH",
    "outputId": "a17c8492-e2e4-430d-8a6c-7807df42afdd"
   },
   "outputs": [
    {
     "name": "stdout",
     "output_type": "stream",
     "text": [
      "test accuracy:  0.6287878787878788\n",
      "aside accuracy:  0.6166666666666667\n",
      "Boundary attack aside accuracy:  0.6083333333333333\n"
     ]
    }
   ],
   "source": [
    "# Gradient boosting\n",
    "from sklearn.ensemble import GradientBoostingClassifier\n",
    "\n",
    "gb = GradientBoostingClassifier(n_estimators=100, learning_rate=1.0, max_depth=1, random_state=0)\n",
    "gb.fit(x_train, np.argmax(labels_train,axis = 1))\n",
    "print('test accuracy: ',gb.score(x_test,np.argmax(labels_test,axis = 1)))\n",
    "print('aside accuracy: ',gb.score(x_aside,np.argmax(labels_aside,axis = 1)))\n",
    "print('Boundary attack aside accuracy: ',gb.score(x_ba, np.argmax(labels_aside,axis = 1)))"
   ]
  },
  {
   "cell_type": "code",
   "execution_count": null,
   "metadata": {
    "colab": {
     "base_uri": "https://localhost:8080/"
    },
    "executionInfo": {
     "elapsed": 19610,
     "status": "ok",
     "timestamp": 1638398166422,
     "user": {
      "displayName": "Silence Ma",
      "photoUrl": "https://lh3.googleusercontent.com/a/default-user=s64",
      "userId": "01344304277965432029"
     },
     "user_tz": 480
    },
    "id": "adTrFesE-T5O",
    "outputId": "fff4105d-9892-43f6-800e-c53254158492"
   },
   "outputs": [
    {
     "name": "stderr",
     "output_type": "stream",
     "text": [
      "/usr/local/lib/python3.7/dist-packages/keras/engine/training_v1.py:2057: UserWarning: `Model.state_updates` will be removed in a future version. This property should not be used in TensorFlow 2.0, as `updates` are applied automatically.\n",
      "  updates = self.state_updates\n"
     ]
    },
    {
     "name": "stdout",
     "output_type": "stream",
     "text": [
      "Boundary attack MobileNet aside test loss, test acc: [1.1076636036237082, 0.24166666]\n"
     ]
    }
   ],
   "source": [
    "# load MobileNet and build model\n",
    "SAVE_ROOT_DIR = 'drive/My Drive/CS504(AML)/Course Project/'\n",
    "model_MobileNet = keras.models.load_model(SAVE_ROOT_DIR + 'BUSI_dataset_MobileNet.h5')\n",
    "model_MobileNet.build((224,224,3))\n",
    "# Adam optimizer\n",
    "optimizer = keras.optimizers.Adam(learning_rate=0.0001)\n",
    "# compile the keras model\n",
    "model_MobileNet.compile(loss = 'categorical_crossentropy', optimizer = optimizer, metrics = ['accuracy'])\n",
    "# evaluate the keras model with aside images\n",
    "results = model.evaluate(x_test_adv, labels_aside)\n",
    "print(\"Boundary attack MobileNet aside test loss, test acc:\", results)"
   ]
  }
 ],
 "metadata": {
  "accelerator": "GPU",
  "colab": {
   "authorship_tag": "ABX9TyPaP0FSy3YkOwp0EaEo0oY5",
   "collapsed_sections": [],
   "machine_shape": "hm",
   "name": "BUSI_resnet50_Boundary_Attack.ipynb",
   "provenance": [
    {
     "file_id": "1ctYlmyZjyCRwd-pTbvqehFhiBLeNPPB7",
     "timestamp": 1638305098714
    },
    {
     "file_id": "1xPGwgbVr2J1QGM-XpGBFtOlrTcXDfJEs",
     "timestamp": 1638260601202
    },
    {
     "file_id": "1TLdt1Kf9meFF7zXHhCnuBSTaie9khwHI",
     "timestamp": 1638251177821
    },
    {
     "file_id": "1Hecpe9FBPCSVVJ3HE6prAXWy5-Xv4DmW",
     "timestamp": 1630906214757
    }
   ]
  },
  "kernelspec": {
   "display_name": "Python 3",
   "language": "python",
   "name": "python3"
  },
  "language_info": {
   "codemirror_mode": {
    "name": "ipython",
    "version": 3
   },
   "file_extension": ".py",
   "mimetype": "text/x-python",
   "name": "python",
   "nbconvert_exporter": "python",
   "pygments_lexer": "ipython3",
   "version": "3.7.3"
  }
 },
 "nbformat": 4,
 "nbformat_minor": 1
}
